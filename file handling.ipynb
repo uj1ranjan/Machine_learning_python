{
 "cells": [
  {
   "cell_type": "markdown",
   "metadata": {},
   "source": [
    "## File handling"
   ]
  },
  {
   "cell_type": "code",
   "execution_count": 1,
   "metadata": {},
   "outputs": [],
   "source": [
    "f=open(\"test.txt\",\"r\")"
   ]
  },
  {
   "cell_type": "code",
   "execution_count": 2,
   "metadata": {},
   "outputs": [
    {
     "data": {
      "text/plain": [
       "'12,23,45,67\\n78,6,89,90\\n34,90,89,67'"
      ]
     },
     "execution_count": 2,
     "metadata": {},
     "output_type": "execute_result"
    }
   ],
   "source": [
    "f.read()"
   ]
  },
  {
   "cell_type": "code",
   "execution_count": 3,
   "metadata": {},
   "outputs": [],
   "source": [
    "f.close()"
   ]
  },
  {
   "cell_type": "code",
   "execution_count": 4,
   "metadata": {},
   "outputs": [],
   "source": [
    "p=open(\"yt.txt\",\"w\")"
   ]
  },
  {
   "cell_type": "code",
   "execution_count": 5,
   "metadata": {},
   "outputs": [
    {
     "data": {
      "text/plain": [
       "26"
      ]
     },
     "execution_count": 5,
     "metadata": {},
     "output_type": "execute_result"
    }
   ],
   "source": [
    "p.write(\"hi this is testing.......|\")"
   ]
  },
  {
   "cell_type": "code",
   "execution_count": 6,
   "metadata": {},
   "outputs": [],
   "source": [
    "p.close()"
   ]
  },
  {
   "cell_type": "code",
   "execution_count": 7,
   "metadata": {},
   "outputs": [],
   "source": [
    "import random"
   ]
  },
  {
   "cell_type": "code",
   "execution_count": 9,
   "metadata": {},
   "outputs": [],
   "source": [
    "p=[random.randint(1,100) for i in range(1000)]"
   ]
  },
  {
   "cell_type": "code",
   "execution_count": 26,
   "metadata": {},
   "outputs": [],
   "source": [
    "fin=\"\"\n",
    "l=0\n",
    "for i in p:\n",
    "    if l < 9:\n",
    "        fin+=str(i)+\",\"\n",
    "        l+=1\n",
    "        #print(i)\n",
    "    else:\n",
    "        fin+=str(i)+\"\\n\"\n",
    "        l=0\n",
    "f=open(\"ytr.txt\",\"w\")\n",
    "f.write(fin)\n",
    "f.close()"
   ]
  },
  {
   "cell_type": "code",
   "execution_count": 27,
   "metadata": {},
   "outputs": [
    {
     "data": {
      "text/plain": [
       "'94,84,88,1,53,4,2,42,59,24\\n1,94,99,45,88,4,63,8,5,20\\n26,7,10,76,30,38,10,16,34,57\\n21,48,42,16,63,64,37,39,88,30\\n4,88,55,95,35,9,38,86,31,88\\n100,5,37,85,72,47,49,40,17,26\\n90,80,12,59,7,11,35,49,99,64\\n60,88,92,12,43,27,76,91,51,73\\n42,2,20,60,85,32,62,24,30,82\\n4,37,41,19,65,20,47,53,88,84\\n81,95,53,99,71,18,25,68,12,51\\n48,75,71,98,75,43,85,38,76,89\\n67,73,80,69,51,90,2,100,52,5\\n84,1,41,83,10,16,27,24,25,4\\n87,26,52,86,79,40,44,88,47,97\\n69,88,92,99,51,38,100,99,91,47\\n19,17,79,4,57,37,13,32,78,30\\n85,73,20,31,60,37,26,37,96,88\\n99,88,19,97,33,24,86,29,17,86\\n32,98,16,53,8,54,24,62,80,58\\n51,43,40,1,20,43,63,78,63,7\\n68,24,8,4,10,15,43,56,51,55\\n91,63,61,54,48,97,56,61,44,30\\n19,19,22,17,12,8,8,92,97,95\\n42,21,89,99,22,46,8,81,29,42\\n67,34,14,25,97,57,20,15,42,50\\n85,47,56,51,37,60,22,24,43,35\\n57,43,26,38,46,100,13,5,36,9\\n16,73,75,100,79,66,35,55,92,61\\n56,29,40,62,12,85,18,11,5,55\\n53,60,76,96,27,31,59,78,75,53\\n94,83,14,39,19,16,61,87,68,4\\n17,61,67,6,94,64,96,35,33,17\\n24,100,87,59,4,63,79,83,73,75\\n90,82,86,19,65,5,16,5,33,81\\n10,24,46,10,79,47,7,59,45,15\\n31,61,84,26,33,75,50,10,90,85\\n94,22,87,41,3,66,60,19,96,4\\n33,33,100,24,80,31,19,60,70,82\\n46,92,73,16,38,79,41,55,95,35\\n64,19,47,21,25,34,23,82,12,49\\n9,13,3,74,42,73,29,46,75,35\\n63,1,87,11,62,92,49,38,9,68\\n66,86,65,46,26,61,72,52,2,98\\n48,24,50,5,10,52,2,73,4,15\\n33,19,19,88,48,23,49,13,76,15\\n29,74,44,37,8,61,39,41,62,35\\n97,6,91,31,52,9,1,94,96,90\\n25,6,24,27,81,14,7,53,51,11\\n60,2,3,85,39,8,78,27,6,99\\n27,92,35,33,51,11,5,7,64,84\\n42,73,59,49,57,30,48,95,16,82\\n26,75,12,45,68,3,35,16,61,52\\n14,81,26,78,100,94,28,16,10,25\\n50,68,33,81,27,9,3,36,21,87\\n73,12,98,32,41,41,48,100,48,50\\n32,50,4,67,13,7,81,78,97,9\\n30,83,67,4,62,26,40,54,93,43\\n35,40,54,92,48,61,100,64,2,12\\n26,38,23,96,8,58,36,37,8,61\\n47,73,76,91,26,81,15,99,51,48\\n78,97,72,63,57,94,6,56,63,48\\n73,36,82,4,19,70,63,73,68,86\\n35,91,21,35,97,84,72,83,14,64\\n58,41,15,60,44,84,47,5,17,65\\n87,85,54,29,24,14,24,15,88,64\\n17,81,87,45,42,59,7,55,98,89\\n2,31,63,44,51,58,31,94,68,86\\n55,39,89,39,54,55,27,34,56,44\\n36,59,94,53,90,73,18,86,30,67\\n89,63,57,71,27,70,17,15,58,62\\n97,82,73,48,74,27,30,21,46,43\\n96,59,35,12,64,6,14,65,51,64\\n72,100,3,16,89,51,61,66,39,100\\n14,94,100,17,49,38,18,85,58,76\\n24,5,4,40,75,66,81,91,5,74\\n83,93,32,41,39,77,84,83,1,85\\n54,71,66,66,91,100,78,70,90,42\\n38,72,42,75,46,74,81,37,41,60\\n99,19,19,49,41,41,92,38,9,65\\n53,66,90,15,52,23,21,45,90,90\\n83,94,96,18,2,20,25,38,27,13\\n71,23,28,39,80,86,63,17,76,3\\n14,82,77,55,60,57,90,77,62,56\\n59,89,38,72,19,46,16,43,43,10\\n93,70,69,40,12,88,61,72,50,38\\n32,77,15,56,48,58,99,98,43,5\\n49,94,32,56,30,40,6,67,3,53\\n72,64,30,4,15,30,48,1,94,7\\n42,90,2,59,36,98,58,91,64,44\\n23,44,21,86,54,73,49,91,36,26\\n41,98,68,86,86,82,63,31,54,26\\n14,90,13,34,42,56,87,85,64,91\\n25,53,39,45,6,14,73,80,42,63\\n93,82,28,6,52,29,5,15,59,65\\n28,80,1,16,75,1,61,24,3,42\\n74,37,100,90,17,69,29,82,84,9\\n13,16,22,63,52,24,48,55,72,53\\n36,7,67,71,9,90,39,81,64,83\\n64,89,87,60,13,2,67,97,89,31\\n'"
      ]
     },
     "execution_count": 27,
     "metadata": {},
     "output_type": "execute_result"
    }
   ],
   "source": [
    "fin"
   ]
  },
  {
   "cell_type": "code",
   "execution_count": 64,
   "metadata": {},
   "outputs": [],
   "source": [
    "p=[ [ str(j*(2**i)) for j in range(1,11)] for i in range(1,10)]"
   ]
  },
  {
   "cell_type": "code",
   "execution_count": 71,
   "metadata": {},
   "outputs": [],
   "source": [
    "li=\"\"\n",
    "for sl in p:\n",
    "    for gh in sl:\n",
    "        li+=\",\"+str(gh)\n",
    "    li+=\"\\n\""
   ]
  },
  {
   "cell_type": "code",
   "execution_count": 73,
   "metadata": {},
   "outputs": [
    {
     "data": {
      "text/plain": [
       "'2,4,6,8,10,12,14,16,18,20\\n,4,8,12,16,20,24,28,32,36,40\\n,8,16,24,32,40,48,56,64,72,80\\n,16,32,48,64,80,96,112,128,144,160\\n,32,64,96,128,160,192,224,256,288,320\\n,64,128,192,256,320,384,448,512,576,640\\n,128,256,384,512,640,768,896,1024,1152,1280\\n,256,512,768,1024,1280,1536,1792,2048,2304,2560\\n,512,1024,1536,2048,2560,3072,3584,4096,4608,5120'"
      ]
     },
     "execution_count": 73,
     "metadata": {},
     "output_type": "execute_result"
    }
   ],
   "source": [
    "li[1:len(li)-1]"
   ]
  },
  {
   "cell_type": "code",
   "execution_count": 74,
   "metadata": {},
   "outputs": [],
   "source": [
    "li=\"\"\n",
    "for sl in p:\n",
    "    li+=\",\".join(sl)\n",
    "    li+=\"\\n\""
   ]
  },
  {
   "cell_type": "code",
   "execution_count": 76,
   "metadata": {},
   "outputs": [
    {
     "data": {
      "text/plain": [
       "'2,4,6,8,10,12,14,16,18,20\\n4,8,12,16,20,24,28,32,36,40\\n8,16,24,32,40,48,56,64,72,80\\n16,32,48,64,80,96,112,128,144,160\\n32,64,96,128,160,192,224,256,288,320\\n64,128,192,256,320,384,448,512,576,640\\n128,256,384,512,640,768,896,1024,1152,1280\\n256,512,768,1024,1280,1536,1792,2048,2304,2560\\n512,1024,1536,2048,2560,3072,3584,4096,4608,5120'"
      ]
     },
     "execution_count": 76,
     "metadata": {},
     "output_type": "execute_result"
    }
   ],
   "source": [
    "li[:-1]"
   ]
  },
  {
   "cell_type": "code",
   "execution_count": 77,
   "metadata": {},
   "outputs": [],
   "source": [
    "import json"
   ]
  },
  {
   "cell_type": "code",
   "execution_count": 78,
   "metadata": {},
   "outputs": [],
   "source": [
    "data={\"useid\":{\"email\":\"njnitesh@gmail.com\",\"passw\":\"98172939\"}}"
   ]
  },
  {
   "cell_type": "code",
   "execution_count": 81,
   "metadata": {},
   "outputs": [],
   "source": [
    "t=json.dumps(data)"
   ]
  },
  {
   "cell_type": "code",
   "execution_count": 82,
   "metadata": {},
   "outputs": [
    {
     "data": {
      "text/plain": [
       "str"
      ]
     },
     "execution_count": 82,
     "metadata": {},
     "output_type": "execute_result"
    }
   ],
   "source": [
    "type(t)"
   ]
  },
  {
   "cell_type": "code",
   "execution_count": 84,
   "metadata": {},
   "outputs": [],
   "source": [
    "gh=json.loads(t)"
   ]
  },
  {
   "cell_type": "code",
   "execution_count": 85,
   "metadata": {},
   "outputs": [
    {
     "data": {
      "text/plain": [
       "dict"
      ]
     },
     "execution_count": 85,
     "metadata": {},
     "output_type": "execute_result"
    }
   ],
   "source": [
    "type(gh)"
   ]
  },
  {
   "cell_type": "code",
   "execution_count": 86,
   "metadata": {},
   "outputs": [],
   "source": [
    "with open(\"u.txt\",\"w\") as f:\n",
    "    f.write(json.dumps(data))"
   ]
  },
  {
   "cell_type": "code",
   "execution_count": 87,
   "metadata": {},
   "outputs": [],
   "source": [
    "with open(\"u.txt\",\"r\") as f:\n",
    "    dicty=json.loads(f.read())"
   ]
  },
  {
   "cell_type": "code",
   "execution_count": 92,
   "metadata": {},
   "outputs": [
    {
     "data": {
      "text/plain": [
       "'njnitesh@gmail.com'"
      ]
     },
     "execution_count": 92,
     "metadata": {},
     "output_type": "execute_result"
    }
   ],
   "source": [
    "dicty['useid']['email']"
   ]
  },
  {
   "cell_type": "code",
   "execution_count": 93,
   "metadata": {},
   "outputs": [],
   "source": [
    "dicty['jkkli']={\"email\":\"\",\"passw\":\"\"}"
   ]
  },
  {
   "cell_type": "code",
   "execution_count": 94,
   "metadata": {},
   "outputs": [
    {
     "data": {
      "text/plain": [
       "{'useid': {'email': 'njnitesh@gmail.com', 'passw': '98172939'},\n",
       " 'jkkli': {'email': '', 'passw': ''}}"
      ]
     },
     "execution_count": 94,
     "metadata": {},
     "output_type": "execute_result"
    }
   ],
   "source": [
    "dicty"
   ]
  },
  {
   "cell_type": "code",
   "execution_count": 96,
   "metadata": {},
   "outputs": [
    {
     "name": "stdout",
     "output_type": "stream",
     "text": [
      "1 3\n",
      "2 4\n",
      "3 6\n"
     ]
    }
   ],
   "source": [
    "for a,b in zip([1,2,3],[3,4,6]):\n",
    "    print(a,b)"
   ]
  },
  {
   "cell_type": "code",
   "execution_count": null,
   "metadata": {},
   "outputs": [],
   "source": []
  }
 ],
 "metadata": {
  "kernelspec": {
   "display_name": "Python 3",
   "language": "python",
   "name": "python3"
  },
  "language_info": {
   "codemirror_mode": {
    "name": "ipython",
    "version": 3
   },
   "file_extension": ".py",
   "mimetype": "text/x-python",
   "name": "python",
   "nbconvert_exporter": "python",
   "pygments_lexer": "ipython3",
   "version": "3.7.3"
  }
 },
 "nbformat": 4,
 "nbformat_minor": 2
}
