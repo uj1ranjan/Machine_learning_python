{
 "cells": [
  {
   "cell_type": "markdown",
   "metadata": {},
   "source": [
    "###  Q1: Write a Program to print the table\n",
    "* take input from user and print that table\n",
    "\n",
    "</br></br></br></br>\n",
    "\n",
    "### Q2: Write a Program Reverse the String\n",
    "test case:\n",
    "\n",
    "input : \"iwritecode\"\n",
    "\n",
    "output: \"edocetirwi\"\n",
    "\n",
    "</br></br></br></br>\n",
    "\n",
    "### Q3: Write a program to mix two string in alternate manner.\n",
    "\n",
    "test case:\n",
    "\n",
    "input : str1=\"apple\",  str2=\"orange\"\n",
    "\n",
    "output : \"aoprpalnege\"\n",
    "\n",
    "</br></br></br></br>\n",
    "\n",
    "### Q4: Make a Program Simple Loan Calculator\n",
    "* take the loan ammount and time period from user as input\n",
    "* caculate the interest at 4%\n",
    "* finally print the total ammount the customer will have pay.\n",
    "\n",
    "</br></br></br></br>\n",
    "\n",
    "### Q5: Print it out\n",
    "\n"
   ]
  },
  {
   "cell_type": "code",
   "execution_count": 2,
   "metadata": {},
   "outputs": [
    {
     "ename": "IndentationError",
     "evalue": "unindent does not match any outer indentation level (<tokenize>, line 7)",
     "output_type": "error",
     "traceback": [
      "\u001b[0;36m  File \u001b[0;32m\"<tokenize>\"\u001b[0;36m, line \u001b[0;32m7\u001b[0m\n\u001b[0;31m    //\u001b[0m\n\u001b[0m    ^\u001b[0m\n\u001b[0;31mIndentationError\u001b[0m\u001b[0;31m:\u001b[0m unindent does not match any outer indentation level\n"
     ]
    }
   ],
   "source": [
    "\\\\   \n",
    " \\\\\n",
    "  \\\\\n",
    "   \\\\\n",
    "   //\n",
    "  // \n",
    " //\n",
    "// "
   ]
  },
  {
   "cell_type": "code",
   "execution_count": 1,
   "metadata": {},
   "outputs": [
    {
     "name": "stdout",
     "output_type": "stream",
     "text": [
      "\\\\       \n",
      "\n",
      "  \\\\     \n",
      "\n",
      "    \\\\   \n",
      "\n",
      "      \\\\ \n",
      "\n",
      "       //\n",
      "\n",
      "     //  \n",
      "\n",
      "   //    \n",
      "\n",
      " //      \n",
      "\n"
     ]
    }
   ],
   "source": [
    "for row in range(0,8):\n",
    "    for col in range(0,4):\n",
    "        if col-row==0:\n",
    "            print(\"\\\\\\\\\",end=\"\")\n",
    "        else:\n",
    "            print(\" \",end=\"\")\n",
    "            \n",
    "            \n",
    "        if col+row==7:\n",
    "            print(\"//\",end='')\n",
    "        else:\n",
    "            print(\" \",end='')\n",
    "    print(\"\\n\")"
   ]
  },
  {
   "cell_type": "markdown",
   "metadata": {},
   "source": [
    "### SHopping Mall App\n",
    "* step 1: make categories and items\n",
    "* step 2: repective price list\n",
    "* step 3: print those item to the user\n",
    "* step 5: put the system of cart\n",
    "* step 6: subtotal\n",
    "* step 7: bill"
   ]
  },
  {
   "cell_type": "code",
   "execution_count": 8,
   "metadata": {},
   "outputs": [
    {
     "name": "stdout",
     "output_type": "stream",
     "text": [
      "Welcome in Our Shop\n",
      "0 pizza\t180\n",
      "1 coffee\t50\n",
      "2 burger\t45\n",
      "3 cold-coffe\t60\n",
      "enter any number from above list\n",
      "\n",
      "press 5 for exit\n",
      "\n"
     ]
    },
    {
     "name": "stdin",
     "output_type": "stream",
     "text": [
      "enter any number 0\n",
      "enter any number 1\n",
      "enter any number 3\n",
      "enter any number 5\n"
     ]
    }
   ],
   "source": [
    "cart=[]#blank cart\n",
    "\n",
    "# items and price\n",
    "items=[\"pizza\",\"coffee\",\"burger\",\"cold-coffe\"]\n",
    "price=[180,50,45,60]\n",
    "\n",
    "\n",
    "print(\"Welcome in Our Shop\")\n",
    "\n",
    "for i in range(len(items)):\n",
    "    print(str(i)+\" \"+items[i]+\"\\t\"+str(price[i]))\n",
    "\n",
    "print(\"enter any number from above list\\n\\npress 5 for exit\\n\")\n",
    "\n",
    "control=0\n",
    "while control!=5:\n",
    "    control=int(input(\"enter any number\"))\n",
    "    cart.append(control)\n",
    "\n",
    "    \n"
   ]
  },
  {
   "cell_type": "code",
   "execution_count": 9,
   "metadata": {},
   "outputs": [
    {
     "data": {
      "text/plain": [
       "[0, 1, 3, 5]"
      ]
     },
     "execution_count": 9,
     "metadata": {},
     "output_type": "execute_result"
    }
   ],
   "source": [
    "cart"
   ]
  },
  {
   "cell_type": "code",
   "execution_count": null,
   "metadata": {},
   "outputs": [
    {
     "name": "stdout",
     "output_type": "stream",
     "text": [
      " LogIn And SignUp\n",
      " 1. Login\n",
      "2. Signup\n"
     ]
    }
   ],
   "source": [
    "user=[\"nj\"]\n",
    "pwd=[\"1234\"]\n",
    "print(\" LogIn And SignUp\\n 1. Login\\n2. Signup\")\n",
    "\n",
    "\n",
    "while 1:\n",
    "\n",
    "    chek=int(input(\"enter your choice...\"))\n",
    "    if chek==1:\n",
    "        #Login\n",
    "        u=input(\"enter your userid\")\n",
    "        p=input(\"eneter  your password\")\n",
    "        if u in user:\n",
    "            i=user.index(u)\n",
    "\n",
    "            if pwd[i]==p:\n",
    "                print(\"login\")\n",
    "            else:\n",
    "                print(\"acces denied!!!!\")\n",
    "\n",
    "    elif chek==2:\n",
    "        u=input(\"enter your userid\")\n",
    "        p=input(\"eneter  your password\")\n",
    "        user.append(u)\n",
    "        pwd.append(p)\n",
    "        #Signup\n",
    "    else :\n",
    "        break\n",
    "        print(\"choose appropriate selection\")"
   ]
  },
  {
   "cell_type": "code",
   "execution_count": 18,
   "metadata": {},
   "outputs": [
    {
     "data": {
      "text/plain": [
       "False"
      ]
     },
     "execution_count": 18,
     "metadata": {},
     "output_type": "execute_result"
    }
   ],
   "source": []
  },
  {
   "cell_type": "markdown",
   "metadata": {},
   "source": [
    "## Write a program to find number is palidrome or not?\n",
    "* 121==121"
   ]
  },
  {
   "cell_type": "code",
   "execution_count": 3,
   "metadata": {},
   "outputs": [
    {
     "name": "stdin",
     "output_type": "stream",
     "text": [
      "Enter a no. 223\n"
     ]
    },
    {
     "name": "stdout",
     "output_type": "stream",
     "text": [
      "223  is not a palindrome no.\n"
     ]
    }
   ],
   "source": [
    "n=int(input(\"Enter a no.\"))\n",
    "n1=n\n",
    "rev=0\n",
    "while n>0:\n",
    "    rem = n % 10\n",
    "    rev = (rev*10) +rem\n",
    "    n = n // 10\n",
    "    \n",
    "if n1==rev:\n",
    "    print(n1,\" is a palindrome no.\")\n",
    "else : print(n1,\" is not a palindrome no.\")    "
   ]
  },
  {
   "cell_type": "code",
   "execution_count": null,
   "metadata": {},
   "outputs": [],
   "source": []
  }
 ],
 "metadata": {
  "kernelspec": {
   "display_name": "Python 3",
   "language": "python",
   "name": "python3"
  },
  "language_info": {
   "codemirror_mode": {
    "name": "ipython",
    "version": 3
   },
   "file_extension": ".py",
   "mimetype": "text/x-python",
   "name": "python",
   "nbconvert_exporter": "python",
   "pygments_lexer": "ipython3",
   "version": "3.7.3"
  }
 },
 "nbformat": 4,
 "nbformat_minor": 2
}
