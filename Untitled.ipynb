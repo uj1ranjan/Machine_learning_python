{
 "cells": [
  {
   "cell_type": "markdown",
   "metadata": {},
   "source": [
    "## File handling"
   ]
  },
  {
   "cell_type": "code",
   "execution_count": 122,
   "metadata": {},
   "outputs": [],
   "source": [
    "import json"
   ]
  },
  {
   "cell_type": "code",
   "execution_count": 157,
   "metadata": {},
   "outputs": [
    {
     "name": "stdin",
     "output_type": "stream",
     "text": [
      "enter your inputs qw 1213\n"
     ]
    }
   ],
   "source": [
    "\n",
    "df={}\n",
    "\n",
    "rt=input(\"enter your inputs\").split()\n",
    "\n",
    "df[rt[0]]={\"pwd\":rt[1]}\n",
    "\n",
    "with open(\"data.txt\",\"w\") as f:\n",
    "    f.write(json.dumps(df))"
   ]
  },
  {
   "cell_type": "code",
   "execution_count": 158,
   "metadata": {},
   "outputs": [],
   "source": [
    "with open(\"data.txt\") as d:\n",
    "    ds=json.loads(d.read())"
   ]
  },
  {
   "cell_type": "code",
   "execution_count": 159,
   "metadata": {},
   "outputs": [],
   "source": [
    "with open(\"data.txt\") as d:\n",
    "    ds=json.loads(d.read())\n",
    "    \n",
    "ds[\"nj\"]={\"pwd\":\"0982392\"}\n",
    "    \n",
    "with open(\"data.txt\",\"w\") as t:\n",
    "    t.write(json.dumps(ds))"
   ]
  },
  {
   "cell_type": "code",
   "execution_count": 163,
   "metadata": {},
   "outputs": [
    {
     "ename": "KeyError",
     "evalue": "'nhj'",
     "output_type": "error",
     "traceback": [
      "\u001b[0;31m---------------------------------------------------------------------------\u001b[0m",
      "\u001b[0;31mKeyError\u001b[0m                                  Traceback (most recent call last)",
      "\u001b[0;32m<ipython-input-163-0dcd8d349c57>\u001b[0m in \u001b[0;36m<module>\u001b[0;34m\u001b[0m\n\u001b[0;32m----> 1\u001b[0;31m \u001b[0mds\u001b[0m\u001b[0;34m[\u001b[0m\u001b[0;34m\"nhj\"\u001b[0m\u001b[0;34m]\u001b[0m\u001b[0;34m\u001b[0m\u001b[0;34m\u001b[0m\u001b[0m\n\u001b[0m",
      "\u001b[0;31mKeyError\u001b[0m: 'nhj'"
     ]
    }
   ],
   "source": []
  },
  {
   "cell_type": "code",
   "execution_count": 179,
   "metadata": {},
   "outputs": [
    {
     "name": "stdin",
     "output_type": "stream",
     "text": [
      "1.login\n",
      "2.signup 2\n"
     ]
    }
   ],
   "source": [
    "c=int(input(\"1.login\\n2.signup\"))"
   ]
  },
  {
   "cell_type": "code",
   "execution_count": 194,
   "metadata": {},
   "outputs": [
    {
     "name": "stdin",
     "output_type": "stream",
     "text": [
      "enter Your userid rj\n",
      "enter your password 89732\n"
     ]
    }
   ],
   "source": [
    "if c==1:\n",
    "    u=input(\"enter your userid\")\n",
    "    p=input(\"enter your password\")\n",
    "    df=dict_read()\n",
    "    if u in list(df.keys()):\n",
    "        if df[u][\"pwd\"] == p:\n",
    "            print()\n",
    "    #\n",
    "    \n",
    "    #login\n",
    "elif c==2:\n",
    "    userid=input(\"enter Your userid\")\n",
    "    #reading the whole data\n",
    "    df=dict_read()\n",
    "    if not userid in list(df.keys()):\n",
    "        pwd=input(\"enter your password\")\n",
    "    \n",
    "    \n",
    "    \n",
    "        df[userid]={\"pwd\":pwd}\n",
    "    \n",
    "        dict_dump(df)\n",
    "    else:\n",
    "        print(\"try another username\")\n",
    "    #signup\n",
    "else:\n",
    "    print(\"please give write choice\")"
   ]
  },
  {
   "cell_type": "code",
   "execution_count": 167,
   "metadata": {},
   "outputs": [],
   "source": [
    "def dict_dump(dic):\n",
    "    with open(\"data1.txt\",\"w\") as d:\n",
    "        d.write(json.dumps(dic))\n",
    "        "
   ]
  },
  {
   "cell_type": "code",
   "execution_count": 173,
   "metadata": {},
   "outputs": [],
   "source": [
    "def dict_read():\n",
    "    with open(\"data1.txt\") as d:\n",
    "        df=json.loads(d.read())\n",
    "    return df"
   ]
  },
  {
   "cell_type": "code",
   "execution_count": 171,
   "metadata": {},
   "outputs": [],
   "source": [
    "do={\"name\":\"ghjj\"}"
   ]
  },
  {
   "cell_type": "code",
   "execution_count": 172,
   "metadata": {},
   "outputs": [],
   "source": [
    "dict_dump(do)"
   ]
  },
  {
   "cell_type": "code",
   "execution_count": 182,
   "metadata": {},
   "outputs": [],
   "source": [
    "gh=dict_read()"
   ]
  },
  {
   "cell_type": "code",
   "execution_count": 191,
   "metadata": {},
   "outputs": [
    {
     "data": {
      "text/plain": [
       "False"
      ]
     },
     "execution_count": 191,
     "metadata": {},
     "output_type": "execute_result"
    }
   ],
   "source": [
    " 'df' in list(gh.keys()) "
   ]
  },
  {
   "cell_type": "code",
   "execution_count": null,
   "metadata": {},
   "outputs": [],
   "source": []
  }
 ],
 "metadata": {
  "kernelspec": {
   "display_name": "Python 3",
   "language": "python",
   "name": "python3"
  },
  "language_info": {
   "codemirror_mode": {
    "name": "ipython",
    "version": 3
   },
   "file_extension": ".py",
   "mimetype": "text/x-python",
   "name": "python",
   "nbconvert_exporter": "python",
   "pygments_lexer": "ipython3",
   "version": "3.7.3"
  }
 },
 "nbformat": 4,
 "nbformat_minor": 2
}
