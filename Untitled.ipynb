{
 "cells": [
  {
   "cell_type": "markdown",
   "metadata": {},
   "source": [
    "## Hello World"
   ]
  },
  {
   "cell_type": "code",
   "execution_count": 9,
   "metadata": {},
   "outputs": [
    {
     "name": "stdout",
     "output_type": "stream",
     "text": [
      "Hello World@kjgsdjf@lslsld\n"
     ]
    }
   ],
   "source": [
    "print(\"Hello World\",\"kjgsdjf\",\"lslsld\",sep='@')\n"
   ]
  },
  {
   "cell_type": "code",
   "execution_count": null,
   "metadata": {},
   "outputs": [],
   "source": []
  },
  {
   "cell_type": "code",
   "execution_count": 10,
   "metadata": {},
   "outputs": [
    {
     "name": "stdout",
     "output_type": "stream",
     "text": [
      "*****************************\n"
     ]
    }
   ],
   "source": [
    "print(\"*\"*29)"
   ]
  },
  {
   "cell_type": "code",
   "execution_count": null,
   "metadata": {},
   "outputs": [],
   "source": [
    "Your bill is:\n",
    "apple          100rs.\n",
    "burger         200rs.\n",
    "pizza          180rs.\n",
    "____________________\n",
    "total          480rs."
   ]
  },
  {
   "cell_type": "code",
   "execution_count": 23,
   "metadata": {},
   "outputs": [
    {
     "name": "stdout",
     "output_type": "stream",
     "text": [
      "Your bill is :\n",
      "apple\t\t100rs.\n",
      "burger\t\t200rs.\n",
      "pizza\t\t180rs.\n",
      "_________________________\n",
      "Total\t\t480rs.\n"
     ]
    }
   ],
   "source": [
    "print(\"Your bill is :\\napple\\t\\t100rs.\"+\n",
    "      \"\\nburger\\t\\t200rs.\\npizza\\t\\t180rs.\\n\",\"_\"*25,\"\\nTotal\\t\\t480rs.\",sep='')"
   ]
  },
  {
   "cell_type": "code",
   "execution_count": 36,
   "metadata": {},
   "outputs": [
    {
     "name": "stdin",
     "output_type": "stream",
     "text": [
      "Enter any number 12\n",
      "enter other number 23\n"
     ]
    }
   ],
   "source": [
    "var=int(input(\"Enter any number\"))\n",
    "var1=int(input(\"enter other number\"))"
   ]
  },
  {
   "cell_type": "code",
   "execution_count": 51,
   "metadata": {},
   "outputs": [],
   "source": [
    "var=8979.977970987787098\n",
    "car=87786.80809567\n",
    "vsr=\"I have \""
   ]
  },
  {
   "cell_type": "raw",
   "metadata": {},
   "source": [
    "esc+a         # above cell gen\n",
    "esc+b         # below cell gen\n",
    "esc+x         #for delete\n",
    "esc+m+m+enter #select the cell as markdown\n",
    "esc+y+y+enter # select the cell as code interpreter\n",
    "shift+enter   #for run the cell"
   ]
  },
  {
   "cell_type": "code",
   "execution_count": 44,
   "metadata": {},
   "outputs": [
    {
     "name": "stdout",
     "output_type": "stream",
     "text": [
      "I have 8979.98\n"
     ]
    }
   ],
   "source": [
    "print(vsr+\"%0.2f\"%var)"
   ]
  },
  {
   "cell_type": "code",
   "execution_count": 49,
   "metadata": {},
   "outputs": [
    {
     "name": "stdout",
     "output_type": "stream",
     "text": [
      "I have 8979.98\n"
     ]
    }
   ],
   "source": [
    "print(vsr+\"{}\".format(\"%0.2f\"%var))"
   ]
  },
  {
   "cell_type": "code",
   "execution_count": 52,
   "metadata": {},
   "outputs": [
    {
     "name": "stdout",
     "output_type": "stream",
     "text": [
      "I have 8979.98 87786.81\n"
     ]
    }
   ],
   "source": [
    "print(vsr+\"{} {}\".format(\"%0.2f\"%var,\"%0.2f\"%car))"
   ]
  },
  {
   "cell_type": "code",
   "execution_count": 54,
   "metadata": {},
   "outputs": [
    {
     "name": "stdin",
     "output_type": "stream",
     "text": [
      "Enter Your principal ammount 10000\n",
      "Enter Your interest rate 2\n",
      "Enter Your years 2\n"
     ]
    },
    {
     "name": "stdout",
     "output_type": "stream",
     "text": [
      "Your Principal ammount is 10000\n",
      "Total ammount that you have to pay is 10400.0\n"
     ]
    }
   ],
   "source": [
    "p=int(input(\"Enter Your principal ammount\"))\n",
    "i=int(input(\"Enter Your interest rate\"))\n",
    "t=int(input(\"Enter Your years\"))\n",
    "\n",
    "interest=(p*i*t)/100\n",
    "\n",
    "print(\"Your Principal ammount is {}\".format(p))\n",
    "print(\"Total ammount that you have to pay is {}\".format(p+interest))"
   ]
  },
  {
   "cell_type": "code",
   "execution_count": null,
   "metadata": {},
   "outputs": [],
   "source": []
  }
 ],
 "metadata": {
  "kernelspec": {
   "display_name": "Python 3",
   "language": "python",
   "name": "python3"
  },
  "language_info": {
   "codemirror_mode": {
    "name": "ipython",
    "version": 3
   },
   "file_extension": ".py",
   "mimetype": "text/x-python",
   "name": "python",
   "nbconvert_exporter": "python",
   "pygments_lexer": "ipython3",
   "version": "3.7.3"
  }
 },
 "nbformat": 4,
 "nbformat_minor": 2
}
