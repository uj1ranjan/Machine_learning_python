{
 "cells": [
  {
   "cell_type": "markdown",
   "metadata": {},
   "source": [
    "## Dictionary\n"
   ]
  },
  {
   "cell_type": "code",
   "execution_count": 10,
   "metadata": {},
   "outputs": [
    {
     "data": {
      "text/plain": [
       "'apple'"
      ]
     },
     "execution_count": 10,
     "metadata": {},
     "output_type": "execute_result"
    }
   ],
   "source": [
    "user.get(\"name\")"
   ]
  },
  {
   "cell_type": "code",
   "execution_count": 12,
   "metadata": {},
   "outputs": [],
   "source": [
    "user.update({\"name\":\"hjjd\"})"
   ]
  },
  {
   "cell_type": "code",
   "execution_count": 13,
   "metadata": {},
   "outputs": [
    {
     "data": {
      "text/plain": [
       "{'name': 'hjjd', 'add': 'jaipur', 'state': 'india'}"
      ]
     },
     "execution_count": 13,
     "metadata": {},
     "output_type": "execute_result"
    }
   ],
   "source": [
    "user"
   ]
  },
  {
   "cell_type": "code",
   "execution_count": 14,
   "metadata": {},
   "outputs": [
    {
     "data": {
      "text/plain": [
       "'hjjd'"
      ]
     },
     "execution_count": 14,
     "metadata": {},
     "output_type": "execute_result"
    }
   ],
   "source": [
    "user.pop(\"name\")"
   ]
  },
  {
   "cell_type": "code",
   "execution_count": 15,
   "metadata": {},
   "outputs": [
    {
     "data": {
      "text/plain": [
       "{'add': 'jaipur', 'state': 'india'}"
      ]
     },
     "execution_count": 15,
     "metadata": {},
     "output_type": "execute_result"
    }
   ],
   "source": [
    "user"
   ]
  },
  {
   "cell_type": "code",
   "execution_count": 17,
   "metadata": {},
   "outputs": [
    {
     "data": {
      "text/plain": [
       "('state', 'india')"
      ]
     },
     "execution_count": 17,
     "metadata": {},
     "output_type": "execute_result"
    }
   ],
   "source": [
    "user.popitem()"
   ]
  },
  {
   "cell_type": "code",
   "execution_count": 18,
   "metadata": {},
   "outputs": [],
   "source": [
    "yu=user.copy()"
   ]
  },
  {
   "cell_type": "code",
   "execution_count": 19,
   "metadata": {},
   "outputs": [
    {
     "data": {
      "text/plain": [
       "{'add': 'jaipur'}"
      ]
     },
     "execution_count": 19,
     "metadata": {},
     "output_type": "execute_result"
    }
   ],
   "source": [
    "yu"
   ]
  },
  {
   "cell_type": "code",
   "execution_count": 16,
   "metadata": {},
   "outputs": [],
   "source": [
    "import requests\n",
    "import json\n",
    "gh=requests.get(\"https://api.exchangeratesapi.io/latest?base=USD\")"
   ]
  },
  {
   "cell_type": "code",
   "execution_count": 15,
   "metadata": {},
   "outputs": [],
   "source": [
    "# fin=\"\"\n",
    "# for i in json.loads(gh)['rates'].keys():\n",
    "#     fin+=i+\",\"\n",
    "#     with open(\"dt.txt\",\"w\") as f:\n",
    "#         f.write(fin)"
   ]
  },
  {
   "cell_type": "code",
   "execution_count": 19,
   "metadata": {},
   "outputs": [
    {
     "data": {
      "text/plain": [
       "b'{\"base\":\"USD\",\"rates\":{\"BGN\":1.7539234149,\"NZD\":1.5365438077,\"ILS\":3.6324096494,\"RUB\":65.3800556004,\"CAD\":1.3554838131,\"USD\":1.0,\"PHP\":52.2150479778,\"CHF\":1.0056497175,\"AUD\":1.4470451081,\"JPY\":108.7525782441,\"TRY\":5.8532867007,\"HKD\":7.8429737243,\"MYR\":4.1921800735,\"HRK\":6.652766568,\"CZK\":23.1512868801,\"IDR\":14332.4993274146,\"DKK\":6.6971572056,\"NOK\":8.7808268317,\"HUF\":290.861806116,\"GBP\":0.7953815801,\"MXN\":19.6324993274,\"THB\":31.6402116402,\"ISK\":124.0247511434,\"ZAR\":14.6923145906,\"BRL\":3.9872657161,\"SGD\":1.3790691418,\"PLN\":3.8420769438,\"INR\":69.7166173437,\"KRW\":1191.202582728,\"RON\":4.2534301856,\"CNY\":6.9092458076,\"SEK\":9.5408483544,\"EUR\":0.8967805578},\"date\":\"2019-05-31\"}'"
      ]
     },
     "execution_count": 19,
     "metadata": {},
     "output_type": "execute_result"
    }
   ],
   "source": [
    "gh.content\n"
   ]
  },
  {
   "cell_type": "code",
   "execution_count": null,
   "metadata": {},
   "outputs": [],
   "source": []
  }
 ],
 "metadata": {
  "kernelspec": {
   "display_name": "Python 3",
   "language": "python",
   "name": "python3"
  },
  "language_info": {
   "codemirror_mode": {
    "name": "ipython",
    "version": 3
   },
   "file_extension": ".py",
   "mimetype": "text/x-python",
   "name": "python",
   "nbconvert_exporter": "python",
   "pygments_lexer": "ipython3",
   "version": "3.7.3"
  }
 },
 "nbformat": 4,
 "nbformat_minor": 2
}
