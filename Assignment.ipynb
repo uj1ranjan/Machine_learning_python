{
 "cells": [
  {
   "cell_type": "markdown",
   "metadata": {},
   "source": [
    "###  Q1: Write a Program to print the table\n",
    "* take input from user and print that table\n",
    "\n",
    "</br></br></br></br>"
   ]
  },
  {
   "cell_type": "code",
   "execution_count": null,
   "metadata": {},
   "outputs": [],
   "source": [
    "value = input('Enter the value that you want to print the table ')\n",
    "value = int(value)\n",
    "# print a table \n",
    "\n",
    "for i in range(1,11):\n",
    "    print(i * value)\n"
   ]
  },
  {
   "cell_type": "code",
   "execution_count": null,
   "metadata": {},
   "outputs": [],
   "source": []
  },
  {
   "cell_type": "markdown",
   "metadata": {},
   "source": [
    "### Q2: Write a Program Reverse the String\n",
    "test case:\n",
    "\n",
    "input : \"iwritecode\"\n",
    "\n",
    "output: \"edocetirwi\"\n",
    "\n",
    "</br></br></br></br>"
   ]
  },
  {
   "cell_type": "code",
   "execution_count": null,
   "metadata": {},
   "outputs": [],
   "source": [
    "string = input('Write a string that you want to reverse : ')\n",
    "\n",
    "# One Way using slicing \n",
    "# print(string[::-1])\n",
    "\n",
    "# using for loops \n",
    "for i in range(1,(len(string)+1)):\n",
    "    \n",
    "    print(string[-i])"
   ]
  },
  {
   "cell_type": "code",
   "execution_count": null,
   "metadata": {},
   "outputs": [],
   "source": [
    "print(slice(3))"
   ]
  },
  {
   "cell_type": "markdown",
   "metadata": {},
   "source": [
    "### Q3: Write a program to mix two string in alternate manner.\n",
    "\n",
    "test case:\n",
    "\n",
    "input : str1=\"apple\",  str2=\"orange\"\n",
    "\n",
    "output : \"aoprpalnege\"\n",
    "\n",
    "</br></br></br></br>"
   ]
  },
  {
   "cell_type": "code",
   "execution_count": null,
   "metadata": {},
   "outputs": [],
   "source": [
    "first_string = input('Enter First String ')\n",
    "secound_string = input('Enter Secound String ')\n",
    "\n",
    "\n",
    "added_strig = first_string + '\\t' +  secound_string\n",
    "print(added_strig)\n",
    "\n",
    "#using print function\n",
    "print('First String is {} {}'.format(first_string,secound_string))\n",
    "print(f'First String is {first_string} {secound_string}')\n"
   ]
  },
  {
   "cell_type": "code",
   "execution_count": null,
   "metadata": {},
   "outputs": [],
   "source": []
  },
  {
   "cell_type": "markdown",
   "metadata": {},
   "source": [
    "### Q4: Make a Program Simple Loan Calculator\n",
    "* take the loan ammount and time period from user as input\n",
    "* caculate the interest at 4%\n",
    "* finally print the total ammount the customer will have pay.\n",
    "\n",
    "</br></br></br></br>"
   ]
  },
  {
   "cell_type": "code",
   "execution_count": 12,
   "metadata": {},
   "outputs": [
    {
     "name": "stdout",
     "output_type": "stream",
     "text": [
      "How much do you have need loan :10000\n",
      "How much time perioud do you need in days :100\n",
      "Your loan amount is = 10000 and you interest_amount is 109.58904109589041 so \n",
      "You have to be pay : 10109 RS\n"
     ]
    }
   ],
   "source": [
    "loan_amount = int(input('How much do you have need loan :'))\n",
    "time_period = int(input('How much time perioud do you need in days :'))\n",
    "rate_of_interest = 4.0\n",
    "\n",
    "\n",
    "interest_amount = (loan_amount * rate_of_interest * (time_period/365))/100\n",
    "\n",
    "final_amount = int(loan_amount + interest_amount)\n",
    "print('Your loan amount is = {} and you interest_amount is {} so '.format(loan_amount,interest_amount))\n",
    "print('You have to be pay : {} RS'.format(final_amount))\n"
   ]
  },
  {
   "cell_type": "code",
   "execution_count": null,
   "metadata": {},
   "outputs": [],
   "source": []
  },
  {
   "cell_type": "markdown",
   "metadata": {},
   "source": [
    "### Q5: Print it out"
   ]
  },
  {
   "cell_type": "markdown",
   "metadata": {},
   "source": [
    "\\\\\n",
    " \\\\\n",
    "  \\\\\n",
    "   \\\\\n",
    "   //\n",
    "  // \n",
    " //\n",
    "// "
   ]
  },
  {
   "cell_type": "markdown",
   "metadata": {},
   "source": []
  },
  {
   "cell_type": "code",
   "execution_count": 1,
   "metadata": {},
   "outputs": [
    {
     "name": "stdout",
     "output_type": "stream",
     "text": [
      "\\\\\n",
      " \\\\\n",
      "  \\\\\n",
      "   \\\\\n",
      "   //\n",
      "  //\n",
      " //\n",
      "//\n"
     ]
    }
   ],
   "source": [
    "backslash = \"\\\\\"\n",
    "doubal_backslash = backslash + backslash\n",
    "print(doubal_backslash)\n",
    "print(\" \" + doubal_backslash)\n",
    "print(\"  \" + doubal_backslash)\n",
    "print(\"   \" + doubal_backslash)\n",
    "print(\"   \" + \"//\")\n",
    "print(\"  \" + \"//\")\n",
    "print(\" \" + \"//\")\n",
    "print(\"\" + \"//\")\n"
   ]
  },
  {
   "cell_type": "markdown",
   "metadata": {},
   "source": [
    "## Shopping Mall App\n",
    "### Step  1: Make Categories and item\n",
    "### Step  2: repective price list \n",
    "### Step  3:print those item to the user\n",
    "### Step  4: put the system on cart\n",
    "### Step  5:subtotal\n",
    "### Step  6:bill"
   ]
  },
  {
   "cell_type": "code",
   "execution_count": 10,
   "metadata": {},
   "outputs": [
    {
     "name": "stdout",
     "output_type": "stream",
     "text": [
      "apple\n",
      "banana\n",
      "mango\n",
      "gavava\n"
     ]
    }
   ],
   "source": [
    "cart = [] #blank cart\n",
    "items = ['apple','banana','mango','gavava']\n",
    "price = [50,60,90,101]\n",
    "selectd_item = input('Select the item that you want to chose')\n",
    "y_n = input('Do want something more them press y other wise press n')\n",
    "while y_n is "
   ]
  },
  {
   "cell_type": "code",
   "execution_count": 2,
   "metadata": {},
   "outputs": [
    {
     "name": "stdout",
     "output_type": "stream",
     "text": [
      "Enter your user id :844\n",
      "Enter your password 8474\n",
      "You have Enter Wrong Details\n"
     ]
    }
   ],
   "source": [
    "user_id = int(input('Enter your user id :'))\n",
    "password = int(input('Enter your password '))\n",
    "real_user_id = 101\n",
    "real_password = 100\n",
    "\n",
    "if user_id == real_user_id and password == real_password:\n",
    "    print('You are Successfuly login in your account')\n",
    "else:\n",
    "    print('You have Enter Wrong Details')\n",
    "\n",
    "    "
   ]
  },
  {
   "cell_type": "code",
   "execution_count": 5,
   "metadata": {},
   "outputs": [
    {
     "name": "stdout",
     "output_type": "stream",
     "text": [
      "Enter your user id :8756\n",
      "Enter your password 546\n",
      "[8756]\n",
      "[546]\n"
     ]
    }
   ],
   "source": [
    "user = []\n",
    "pwd = []\n",
    "\n",
    "user_id = int(input('Enter your user id :'))\n",
    "password = int(input('Enter your password '))\n",
    "\n",
    "user.append(user_id)\n",
    "pwd.append(password)\n",
    "\n",
    "print(user)\n",
    "print(pwd)\n"
   ]
  },
  {
   "cell_type": "code",
   "execution_count": 7,
   "metadata": {},
   "outputs": [
    {
     "name": "stdout",
     "output_type": "stream",
     "text": [
      "Login and SignUp\n",
      "Enter your user id :yey\n",
      "Enter your password jene\n",
      "['yey']\n",
      "['jene']\n"
     ]
    }
   ],
   "source": [
    "print('Login and SignUp')\n",
    "\n",
    "user = []\n",
    "pwd =  []\n",
    "\n",
    "user_id = input('Enter your user id :')\n",
    "password = input('Enter your password ')\n",
    "\n",
    "if user_id not in user:\n",
    "    user.append(user_id)\n",
    "    pwd.append(password)\n",
    "else:\n",
    "    print('You have Successfuly login')\n",
    "    \n",
    "print(user)\n",
    "print(pwd)\n",
    "\n"
   ]
  },
  {
   "cell_type": "code",
   "execution_count": 1,
   "metadata": {},
   "outputs": [
    {
     "name": "stdout",
     "output_type": "stream",
     "text": [
      "Enter number:121\n",
      "The number is a palindrome!\n"
     ]
    }
   ],
   "source": [
    "n=int(input(\"Enter number:\"))\n",
    "temp=n\n",
    "rev=0\n",
    "while(n>0):\n",
    "    dig=n%10\n",
    "    rev=rev*10+dig\n",
    "    n=n//10\n",
    "if(temp==rev):\n",
    "    print(\"The number is a palindrome!\")\n",
    "else:\n",
    "    print(\"The number isn't a palindrome!\")"
   ]
  },
  {
   "cell_type": "code",
   "execution_count": null,
   "metadata": {},
   "outputs": [],
   "source": []
  }
 ],
 "metadata": {
  "kernelspec": {
   "display_name": "Python 3",
   "language": "python",
   "name": "python3"
  },
  "language_info": {
   "codemirror_mode": {
    "name": "ipython",
    "version": 3
   },
   "file_extension": ".py",
   "mimetype": "text/x-python",
   "name": "python",
   "nbconvert_exporter": "python",
   "pygments_lexer": "ipython3",
   "version": "3.7.3"
  }
 },
 "nbformat": 4,
 "nbformat_minor": 2
}
