{
 "cells": [
  {
   "cell_type": "code",
   "execution_count": 3,
   "metadata": {},
   "outputs": [],
   "source": [
    "from bs4 import BeautifulSoup\n",
    "import requests"
   ]
  },
  {
   "cell_type": "code",
   "execution_count": 5,
   "metadata": {},
   "outputs": [],
   "source": [
    "data=requests.get(\"https://en.wikipedia.org/wiki/Python_(programming_language)\").content"
   ]
  },
  {
   "cell_type": "code",
   "execution_count": 8,
   "metadata": {},
   "outputs": [],
   "source": [
    "raw=BeautifulSoup(data,\"lxml\")"
   ]
  },
  {
   "cell_type": "code",
   "execution_count": 31,
   "metadata": {},
   "outputs": [],
   "source": [
    "tbody=raw.find_all(\"tbody\")[0]"
   ]
  },
  {
   "cell_type": "code",
   "execution_count": 15,
   "metadata": {},
   "outputs": [],
   "source": [
    "tr=tbody.find_all('tr')"
   ]
  },
  {
   "cell_type": "code",
   "execution_count": 19,
   "metadata": {},
   "outputs": [
    {
     "data": {
      "text/plain": [
       "'Paradigm'"
      ]
     },
     "execution_count": 19,
     "metadata": {},
     "output_type": "execute_result"
    }
   ],
   "source": [
    "tr[1].find(\"th\").text"
   ]
  },
  {
   "cell_type": "code",
   "execution_count": 20,
   "metadata": {},
   "outputs": [
    {
     "data": {
      "text/plain": [
       "'Multi-paradigm: functional, imperative, object-oriented, reflective'"
      ]
     },
     "execution_count": 20,
     "metadata": {},
     "output_type": "execute_result"
    }
   ],
   "source": [
    "tr[1].find(\"td\").text"
   ]
  },
  {
   "cell_type": "code",
   "execution_count": 40,
   "metadata": {},
   "outputs": [
    {
     "name": "stdout",
     "output_type": "stream",
     "text": [
      "\n",
      "Paradigm\t\tMulti-paradigm: functional, imperative, object-oriented, reflective\n",
      "Designed by\t\tGuido van Rossum\n",
      "Developer\t\tPython Software Foundation\n",
      "First appeared\t\t1990; 29 years ago (1990)[1]\n",
      "\n",
      "Stable release\t\t3.7.3 / 25 March 2019; 2 months ago (2019-03-25)[2]2.7.16 / 4 March 2019; 3 months ago (2019-03-04)[3]\n",
      "\n",
      "\n",
      "\n",
      "Typing discipline\t\tDuck, dynamic, gradual (since 3.5)[4]\n",
      "License\t\tPython Software Foundation License\n",
      "Filename extensions\t\t.py, .pyc, .pyd, .pyo (prior to 3.5),[5] .pyw, .pyz (since 3.5)[6]\n",
      "Website\t\twww.python.org\n"
     ]
    },
    {
     "ename": "AttributeError",
     "evalue": "'NoneType' object has no attribute 'text'",
     "output_type": "error",
     "traceback": [
      "\u001b[0;31m---------------------------------------------------------------------------\u001b[0m",
      "\u001b[0;31mAttributeError\u001b[0m                            Traceback (most recent call last)",
      "\u001b[0;32m<ipython-input-40-4e8c2930ef31>\u001b[0m in \u001b[0;36m<module>\u001b[0;34m\u001b[0m\n\u001b[1;32m      3\u001b[0m         \u001b[0mh\u001b[0m\u001b[0;34m=\u001b[0m\u001b[0mi\u001b[0m\u001b[0;34m.\u001b[0m\u001b[0mfind\u001b[0m\u001b[0;34m(\u001b[0m\u001b[0;34m\"th\"\u001b[0m\u001b[0;34m)\u001b[0m\u001b[0;34m.\u001b[0m\u001b[0mtext\u001b[0m\u001b[0;34m\u001b[0m\u001b[0;34m\u001b[0m\u001b[0m\n\u001b[0;32m----> 4\u001b[0;31m         \u001b[0md\u001b[0m\u001b[0;34m=\u001b[0m\u001b[0mi\u001b[0m\u001b[0;34m.\u001b[0m\u001b[0mfind\u001b[0m\u001b[0;34m(\u001b[0m\u001b[0;34m\"td\"\u001b[0m\u001b[0;34m)\u001b[0m\u001b[0;34m.\u001b[0m\u001b[0mtext\u001b[0m\u001b[0;34m\u001b[0m\u001b[0;34m\u001b[0m\u001b[0m\n\u001b[0m\u001b[1;32m      5\u001b[0m         \u001b[0mprint\u001b[0m\u001b[0;34m(\u001b[0m\u001b[0mh\u001b[0m\u001b[0;34m+\u001b[0m\u001b[0;34m\"\\t\\t\"\u001b[0m\u001b[0;34m+\u001b[0m\u001b[0md\u001b[0m\u001b[0;34m)\u001b[0m\u001b[0;34m\u001b[0m\u001b[0;34m\u001b[0m\u001b[0m\n",
      "\u001b[0;31mAttributeError\u001b[0m: 'NoneType' object has no attribute 'text'",
      "\nDuring handling of the above exception, another exception occurred:\n",
      "\u001b[0;31mAttributeError\u001b[0m                            Traceback (most recent call last)",
      "\u001b[0;32m<ipython-input-40-4e8c2930ef31>\u001b[0m in \u001b[0;36m<module>\u001b[0;34m\u001b[0m\n\u001b[1;32m      6\u001b[0m \u001b[0;34m\u001b[0m\u001b[0m\n\u001b[1;32m      7\u001b[0m     \u001b[0;32mexcept\u001b[0m\u001b[0;34m:\u001b[0m\u001b[0;34m\u001b[0m\u001b[0;34m\u001b[0m\u001b[0m\n\u001b[0;32m----> 8\u001b[0;31m         \u001b[0md\u001b[0m\u001b[0;34m=\u001b[0m\u001b[0mi\u001b[0m\u001b[0;34m.\u001b[0m\u001b[0mfind\u001b[0m\u001b[0;34m(\u001b[0m\u001b[0;34m\"td\"\u001b[0m\u001b[0;34m)\u001b[0m\u001b[0;34m.\u001b[0m\u001b[0mtext\u001b[0m\u001b[0;34m\u001b[0m\u001b[0;34m\u001b[0m\u001b[0m\n\u001b[0m\u001b[1;32m      9\u001b[0m         \u001b[0mprint\u001b[0m\u001b[0;34m(\u001b[0m\u001b[0md\u001b[0m\u001b[0;34m)\u001b[0m\u001b[0;34m\u001b[0m\u001b[0;34m\u001b[0m\u001b[0m\n",
      "\u001b[0;31mAttributeError\u001b[0m: 'NoneType' object has no attribute 'text'"
     ]
    }
   ],
   "source": [
    "for i in tr:\n",
    "    try:\n",
    "        h=i.find(\"th\").text\n",
    "        d=i.find(\"td\").text\n",
    "        print(h+\"\\t\\t\"+d)\n",
    "        \n",
    "    except:\n",
    "        d=i.find(\"td\").text\n",
    "        print(d)"
   ]
  },
  {
   "cell_type": "code",
   "execution_count": 45,
   "metadata": {},
   "outputs": [
    {
     "name": "stdout",
     "output_type": "stream",
     "text": [
      "\t\n",
      "\n",
      "Paradigm\tMulti-paradigm: functional, imperative, object-oriented, reflective\n",
      "\n",
      "Designed by\tGuido van Rossum\n",
      "\n",
      "Developer\tPython Software Foundation\n",
      "\n",
      "First appeared\t1990; 29 years ago (1990)[1]\n",
      "\n",
      "\t\n",
      "\n",
      "Stable release\t3.7.3 / 25 March 2019; 2 months ago (2019-03-25)[2]2.7.16 / 4 March 2019; 3 months ago (2019-03-04)[3]\n",
      "\n",
      "\n",
      "\t\n",
      "\n",
      "\n",
      "Typing discipline\tDuck, dynamic, gradual (since 3.5)[4]\n",
      "\n",
      "License\tPython Software Foundation License\n",
      "\n",
      "Filename extensions\t.py, .pyc, .pyd, .pyo (prior to 3.5),[5] .pyw, .pyz (since 3.5)[6]\n",
      "\n",
      "Website\twww.python.org\n",
      "\n",
      "Major implementations\t\n",
      "\n",
      "\tCPython, PyPy, Stackless Python, MicroPython. CircuitPython, IronPython, Jython\n",
      "\n",
      "Dialects\t\n",
      "\n",
      "\tCython, RPython, Starlark[7]\n",
      "\n",
      "Influenced by\t\n",
      "\n",
      "\tABC,[8] ALGOL 68,[9] APL,[10] C,[11] C++,[12] CLU,[13] Dylan,[14] Haskell,[15] Icon,[16] Java,[17] Lisp,[18] Modula-3,[12] Perl, Standard ML[10]\n",
      "\n",
      "Influenced\t\n",
      "\n",
      "\tApache Groovy, Boo, Cobra, CoffeeScript,[19] D, Dragon,[20] F#, Genie,[21] Go, JavaScript,[22][23] Julia,[24] Nim, Ring,[25] Ruby,[26] Swift[27]\n",
      "\n",
      "\t\n",
      " Python Programming at Wikibooks\n",
      "\n",
      "\n"
     ]
    }
   ],
   "source": [
    "for i in tr:\n",
    "    r=\"\"\n",
    "    if i.find('th')!= None:\n",
    "        h=i.find(\"th\").text\n",
    "        r+=h\n",
    "    r+=\"\\t\"\n",
    "    if i.find(\"td\") != None:\n",
    "        d=i.find(\"td\").text\n",
    "        r+=d\n",
    "    print(r)\n",
    "    print()\n",
    "        \n"
   ]
  },
  {
   "cell_type": "code",
   "execution_count": 96,
   "metadata": {},
   "outputs": [],
   "source": [
    "d=raw.find_all('div',{\"id\":\"toc\"})[0]"
   ]
  },
  {
   "cell_type": "code",
   "execution_count": 97,
   "metadata": {},
   "outputs": [],
   "source": [
    "ul=d.find_all(\"li\")"
   ]
  },
  {
   "cell_type": "code",
   "execution_count": 115,
   "metadata": {},
   "outputs": [
    {
     "name": "stdout",
     "output_type": "stream",
     "text": [
      "https://en.wikipedia.org/wiki/Python_(programming_language)#History\n",
      "https://en.wikipedia.org/wiki/Python_(programming_language)#Features_and_philosophy\n",
      "\n",
      "\n",
      "https://en.wikipedia.org/wiki/Python_(programming_language)#Mathematics\n",
      "https://en.wikipedia.org/wiki/Python_(programming_language)#Indentation\n",
      "https://en.wikipedia.org/wiki/Python_(programming_language)#Statements_and_control_flow\n",
      "https://en.wikipedia.org/wiki/Python_(programming_language)#Expressions\n",
      "https://en.wikipedia.org/wiki/Python_(programming_language)#Methods\n",
      "https://en.wikipedia.org/wiki/Python_(programming_language)#Typing\n",
      "https://en.wikipedia.org/wiki/Python_(programming_language)#Mathematics\n",
      "https://en.wikipedia.org/wiki/Python_(programming_language)#Libraries\n",
      "https://en.wikipedia.org/wiki/Python_(programming_language)#Development_environments\n",
      "\n",
      "\n",
      "https://en.wikipedia.org/wiki/Python_(programming_language)#Performance\n",
      "https://en.wikipedia.org/wiki/Python_(programming_language)#Reference_implementation\n",
      "https://en.wikipedia.org/wiki/Python_(programming_language)#Other_implementations\n",
      "https://en.wikipedia.org/wiki/Python_(programming_language)#Unsupported_implementations\n",
      "https://en.wikipedia.org/wiki/Python_(programming_language)#Cross-compilers_to_other_languages\n",
      "https://en.wikipedia.org/wiki/Python_(programming_language)#Performance\n",
      "https://en.wikipedia.org/wiki/Python_(programming_language)#Development\n",
      "https://en.wikipedia.org/wiki/Python_(programming_language)#Naming\n",
      "https://en.wikipedia.org/wiki/Python_(programming_language)#API_documentation_generators\n",
      "https://en.wikipedia.org/wiki/Python_(programming_language)#Uses\n",
      "https://en.wikipedia.org/wiki/Python_(programming_language)#Languages_influenced_by_Python\n",
      "https://en.wikipedia.org/wiki/Python_(programming_language)#See_also\n",
      "\n",
      "\n",
      "https://en.wikipedia.org/wiki/Python_(programming_language)#Sources\n",
      "https://en.wikipedia.org/wiki/Python_(programming_language)#Sources\n",
      "https://en.wikipedia.org/wiki/Python_(programming_language)#Further_reading\n",
      "https://en.wikipedia.org/wiki/Python_(programming_language)#External_links\n"
     ]
    }
   ],
   "source": [
    "base_url=\"https://en.wikipedia.org/wiki/Python_(programming_language)\"\n",
    "for li in ul:\n",
    "    if len(li) > 1:\n",
    "        for sli in li.find_all(\"li\"):\n",
    "            t=sli.find(\"a\")['href']\n",
    "        print(\"\\n\")\n",
    "    else:\n",
    "        t=li.find('a')['href']\n",
    "    print(base_url+t)\n",
    "        "
   ]
  },
  {
   "cell_type": "code",
   "execution_count": 104,
   "metadata": {},
   "outputs": [
    {
     "data": {
      "text/plain": [
       "[<li class=\"toclevel-2 tocsection-4\"><a href=\"#Indentation\"><span class=\"tocnumber\">3.1</span> <span class=\"toctext\">Indentation</span></a></li>,\n",
       " <li class=\"toclevel-2 tocsection-5\"><a href=\"#Statements_and_control_flow\"><span class=\"tocnumber\">3.2</span> <span class=\"toctext\">Statements and control flow</span></a></li>,\n",
       " <li class=\"toclevel-2 tocsection-6\"><a href=\"#Expressions\"><span class=\"tocnumber\">3.3</span> <span class=\"toctext\">Expressions</span></a></li>,\n",
       " <li class=\"toclevel-2 tocsection-7\"><a href=\"#Methods\"><span class=\"tocnumber\">3.4</span> <span class=\"toctext\">Methods</span></a></li>,\n",
       " <li class=\"toclevel-2 tocsection-8\"><a href=\"#Typing\"><span class=\"tocnumber\">3.5</span> <span class=\"toctext\">Typing</span></a></li>,\n",
       " <li class=\"toclevel-2 tocsection-9\"><a href=\"#Mathematics\"><span class=\"tocnumber\">3.6</span> <span class=\"toctext\">Mathematics</span></a></li>]"
      ]
     },
     "execution_count": 104,
     "metadata": {},
     "output_type": "execute_result"
    }
   ],
   "source": [
    "ul[2].find_all(\"li\")"
   ]
  },
  {
   "cell_type": "code",
   "execution_count": 113,
   "metadata": {},
   "outputs": [
    {
     "data": {
      "text/plain": [
       "<li class=\"toclevel-2 tocsection-5\"><a href=\"#Statements_and_control_flow\"><span class=\"tocnumber\">3.2</span> <span class=\"toctext\">Statements and control flow</span></a></li>"
      ]
     },
     "execution_count": 113,
     "metadata": {},
     "output_type": "execute_result"
    }
   ],
   "source": [
    "ul[2].find_all(\"li\")"
   ]
  },
  {
   "cell_type": "code",
   "execution_count": null,
   "metadata": {},
   "outputs": [],
   "source": []
  }
 ],
 "metadata": {
  "kernelspec": {
   "display_name": "Python 3",
   "language": "python",
   "name": "python3"
  },
  "language_info": {
   "codemirror_mode": {
    "name": "ipython",
    "version": 3
   },
   "file_extension": ".py",
   "mimetype": "text/x-python",
   "name": "python",
   "nbconvert_exporter": "python",
   "pygments_lexer": "ipython3",
   "version": "3.7.3"
  }
 },
 "nbformat": 4,
 "nbformat_minor": 2
}
