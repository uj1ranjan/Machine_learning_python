{
 "cells": [
  {
   "cell_type": "code",
   "execution_count": 24,
   "metadata": {},
   "outputs": [
    {
     "name": "stdin",
     "output_type": "stream",
     "text": [
      "1. costomer\n",
      "2. shopkeeper 2\n"
     ]
    },
    {
     "name": "stdout",
     "output_type": "stream",
     "text": [
      "welcome in our shop\n",
      "apple\t\t80\n",
      "parle\t\t80\n",
      "juice\t\t89\n",
      "********************\n"
     ]
    },
    {
     "name": "stdin",
     "output_type": "stream",
     "text": [
      "enter the product name apple\n",
      "enter the product name done\n"
     ]
    },
    {
     "name": "stdout",
     "output_type": "stream",
     "text": [
      "apple\t\t80\n",
      "####################\n",
      "total\t\t80\n"
     ]
    }
   ],
   "source": [
    "import json\n",
    "def writedata(data):\n",
    "    with open(\"database.txt\",\"w\") as k:\n",
    "        k.write(json.dumps(data))\n",
    "\n",
    "def readdata():\n",
    "    with open(\"database.txt\",\"r\") as f:\n",
    "        return json.loads(f.read())\n",
    "    \n",
    "def printdata():\n",
    "    print(\"welcome in our shop\")\n",
    "    for key in  readdata().keys():\n",
    "        print(key+\"\\t\\t\"+readdata()[key]['price'])\n",
    "    print(\"*\"*20)\n",
    "\n",
    "def bill(data):\n",
    "    total=0\n",
    "    d=readdata()\n",
    "    for t in data[:-1]:\n",
    "        print(t+\"\\t\\t\"+d[t]['price'])\n",
    "        total+=int(d[t]['price'])\n",
    "    print(\"#\"*20)\n",
    "    print(\"total\\t\\t\"+str(total))\n",
    "\n",
    "choice=input(\"1. costomer\\n2. shopkeeper\")\n",
    "\n",
    "if choice=='1':\n",
    "    while True:\n",
    "        try:\n",
    "            info=input(\"enter the product\\nname,price,vat\").split(\",\")\n",
    "            #reading the database\n",
    "            data=readdata()\n",
    "            data[info[0]]={\"price\":info[1],\"vat\":info[2]}\n",
    "            writedata(data)\n",
    "        except:\n",
    "            \n",
    "            break\n",
    "elif choice=='2':\n",
    "    printdata()\n",
    "    c=''\n",
    "    cart=[]\n",
    "    while c !='done':\n",
    "        c=input(\"enter the product name\")\n",
    "        cart.append(c)\n",
    "    bill(cart)\n",
    "    print(\"\\n\\n\")\n",
    "        "
   ]
  },
  {
   "cell_type": "code",
   "execution_count": 15,
   "metadata": {},
   "outputs": [
    {
     "name": "stdout",
     "output_type": "stream",
     "text": [
      "apple\n",
      "parle\n",
      "juice\n"
     ]
    }
   ],
   "source": [
    "for i in readdata().keys():\n",
    "    print(i)"
   ]
  },
  {
   "cell_type": "code",
   "execution_count": 21,
   "metadata": {},
   "outputs": [
    {
     "data": {
      "text/plain": [
       "['apple', 'apple']"
      ]
     },
     "execution_count": 21,
     "metadata": {},
     "output_type": "execute_result"
    }
   ],
   "source": [
    "cart[:-1]"
   ]
  },
  {
   "cell_type": "code",
   "execution_count": null,
   "metadata": {},
   "outputs": [],
   "source": []
  }
 ],
 "metadata": {
  "kernelspec": {
   "display_name": "Python 3",
   "language": "python",
   "name": "python3"
  },
  "language_info": {
   "codemirror_mode": {
    "name": "ipython",
    "version": 3
   },
   "file_extension": ".py",
   "mimetype": "text/x-python",
   "name": "python",
   "nbconvert_exporter": "python",
   "pygments_lexer": "ipython3",
   "version": "3.7.3"
  }
 },
 "nbformat": 4,
 "nbformat_minor": 2
}
