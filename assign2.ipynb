{
 "cells": [
  {
   "cell_type": "markdown",
   "metadata": {},
   "source": [
    "## Write a program to find line parllel or not?\n",
    "* test case you will two cordinate\n",
    "\n",
    "\n",
    "* note : use the concept of slop"
   ]
  },
  {
   "cell_type": "code",
   "execution_count": null,
   "metadata": {},
   "outputs": [],
   "source": [
    "x1 = int(input('Enter the Frst line starting point : '))\n",
    "x2 = int(input('Enter the First line end point : '))\n",
    "y1 = int(input('Enter the Secound line starting point : '))\n",
    "y2 = int(input('Enter the Secound line end point : '))\n",
    "\n",
    "space_between_x = x2-x1\n",
    "space_between_y = y2-y1\n",
    "\n",
    "if space_between_x == space_between_y:\n",
    "    print('X is equal to Y so line is parllel')\n",
    "else:\n",
    "    print('X is not equal to Y so line is not parllel')\n",
    "\n"
   ]
  },
  {
   "cell_type": "code",
   "execution_count": null,
   "metadata": {},
   "outputs": [],
   "source": []
  },
  {
   "cell_type": "markdown",
   "metadata": {},
   "source": [
    "## Write a pogram to find armstrong number?\n",
    "</br>\n",
    "</br>"
   ]
  },
  {
   "cell_type": "code",
   "execution_count": 48,
   "metadata": {},
   "outputs": [
    {
     "name": "stdout",
     "output_type": "stream",
     "text": [
      "Enter the number that you want to check that the number is armstrong or Not 123\n",
      "123 is Not an Armstrong Number \n"
     ]
    }
   ],
   "source": [
    "value  = int(input('Enter the number that you want to check that the number is armstrong or Not '))\n",
    "list_value = list(str(value))\n",
    "m = []\n",
    "\n",
    "for i in list_value:\n",
    "    i = int(i)\n",
    "    j = i * i *i\n",
    "    m.append(j)\n",
    "\n",
    "total = 0\n",
    "\n",
    "for num in m:\n",
    "    total += num\n",
    "\n",
    "if total == value:\n",
    "    print('{} is a Armstrong Number '.format(value))\n",
    "else:\n",
    "    print('{} is Not an Armstrong Number ' .format(value))\n",
    "    \n",
    "    \n",
    "\n"
   ]
  },
  {
   "cell_type": "code",
   "execution_count": 3,
   "metadata": {},
   "outputs": [
    {
     "data": {
      "text/plain": [
       "[10]"
      ]
     },
     "execution_count": 3,
     "metadata": {},
     "output_type": "execute_result"
    }
   ],
   "source": [
    "list_value"
   ]
  },
  {
   "cell_type": "markdown",
   "metadata": {},
   "source": [
    "## Write a program to find leap year?\n",
    "\n",
    "</br>\n",
    "</br>"
   ]
  },
  {
   "cell_type": "code",
   "execution_count": 52,
   "metadata": {},
   "outputs": [
    {
     "name": "stdout",
     "output_type": "stream",
     "text": [
      "Enter The year that you want to find leap Year Or Not2020\n",
      "The Year is leap Year\n"
     ]
    }
   ],
   "source": [
    "year = int(input('Enter The year that you want to find leap Year Or Not'))\n",
    "\n",
    "if year %4 == 0:\n",
    "    print('The Year is leap Year')\n",
    "else:\n",
    "    print('The Year is Not leap Year')\n"
   ]
  },
  {
   "cell_type": "code",
   "execution_count": null,
   "metadata": {},
   "outputs": [],
   "source": []
  },
  {
   "cell_type": "markdown",
   "metadata": {},
   "source": [
    "## Print 'LCO' using star pattern?\n",
    "\n",
    "</br>\n",
    "</br>"
   ]
  },
  {
   "cell_type": "code",
   "execution_count": 25,
   "metadata": {},
   "outputs": [
    {
     "name": "stdout",
     "output_type": "stream",
     "text": [
      "******    *    *    *    *    *****"
     ]
    }
   ],
   "source": [
    "result = 0\n",
    "\n",
    "\n",
    "# for row in range(1,6):\n",
    "#     print(\"*\")\n",
    "# for column in range(1,6):\n",
    "#         print(\"*\",end=\"\")\n",
    "        \n",
    "        \n",
    "\n",
    "for row in range(7):\n",
    "    for col in range(5):\n",
    "        if (col==0) or  ((row==0 or row==6) and (col>0)) :\n",
    "            print('*',end=\"\")\n",
    "        else:\n",
    "            print(end=\" \")\n",
    "    "
   ]
  },
  {
   "cell_type": "code",
   "execution_count": 84,
   "metadata": {},
   "outputs": [
    {
     "name": "stdout",
     "output_type": "stream",
     "text": [
      "*\n",
      "**\n",
      "***\n",
      "****\n",
      "*****\n",
      "******\n"
     ]
    }
   ],
   "source": [
    "for i in range(0,6):\n",
    "    \n",
    "    for j in range(0, i+1):\n",
    "        print(\"*\",end=\"\")\n",
    "    print(\"\\r\")"
   ]
  },
  {
   "cell_type": "code",
   "execution_count": 7,
   "metadata": {},
   "outputs": [],
   "source": [
    "import numpy as np\n",
    "d=np.array([12,45,78,89,67,89,90])"
   ]
  },
  {
   "cell_type": "code",
   "execution_count": 13,
   "metadata": {},
   "outputs": [
    {
     "data": {
      "text/plain": [
       "array([12, 78, 67, 90])"
      ]
     },
     "execution_count": 13,
     "metadata": {},
     "output_type": "execute_result"
    }
   ],
   "source": [
    "d[::2]"
   ]
  },
  {
   "cell_type": "code",
   "execution_count": null,
   "metadata": {},
   "outputs": [],
   "source": []
  }
 ],
 "metadata": {
  "kernelspec": {
   "display_name": "Python 3",
   "language": "python",
   "name": "python3"
  },
  "language_info": {
   "codemirror_mode": {
    "name": "ipython",
    "version": 3
   },
   "file_extension": ".py",
   "mimetype": "text/x-python",
   "name": "python",
   "nbconvert_exporter": "python",
   "pygments_lexer": "ipython3",
   "version": "3.7.3"
  }
 },
 "nbformat": 4,
 "nbformat_minor": 2
}
