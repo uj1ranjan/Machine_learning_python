{
 "cells": [
  {
   "cell_type": "markdown",
   "metadata": {},
   "source": [
    "## Write a program to find line parllel or not?\n",
    "* test case you will two cordinate\n",
    "\n",
    "\n",
    "* note : use the concept of slop"
   ]
  },
  {
   "cell_type": "markdown",
   "metadata": {},
   "source": [
    "## Write a pogram to find armstrong number?\n",
    "</br>\n",
    "</br>\n",
    "\n",
    "## Write a program to find leap year?\n",
    "\n",
    "</br>\n",
    "</br>\n",
    "\n",
    "## Print 'LCO' using star pattern?\n",
    "\n",
    "</br>\n",
    "</br>\n",
    "\n",
    "## genrate random number 1 to 100 "
   ]
  },
  {
   "cell_type": "code",
   "execution_count": 22,
   "metadata": {},
   "outputs": [],
   "source": [
    "import random\n"
   ]
  },
  {
   "cell_type": "code",
   "execution_count": 23,
   "metadata": {},
   "outputs": [
    {
     "data": {
      "text/plain": [
       "['BPF',\n",
       " 'LOG4',\n",
       " 'NV_MAGICCONST',\n",
       " 'RECIP_BPF',\n",
       " 'Random',\n",
       " 'SG_MAGICCONST',\n",
       " 'SystemRandom',\n",
       " 'TWOPI',\n",
       " '_BuiltinMethodType',\n",
       " '_MethodType',\n",
       " '_Sequence',\n",
       " '_Set',\n",
       " '__all__',\n",
       " '__builtins__',\n",
       " '__cached__',\n",
       " '__doc__',\n",
       " '__file__',\n",
       " '__loader__',\n",
       " '__name__',\n",
       " '__package__',\n",
       " '__spec__',\n",
       " '_acos',\n",
       " '_bisect',\n",
       " '_ceil',\n",
       " '_cos',\n",
       " '_e',\n",
       " '_exp',\n",
       " '_inst',\n",
       " '_itertools',\n",
       " '_log',\n",
       " '_os',\n",
       " '_pi',\n",
       " '_random',\n",
       " '_sha512',\n",
       " '_sin',\n",
       " '_sqrt',\n",
       " '_test',\n",
       " '_test_generator',\n",
       " '_urandom',\n",
       " '_warn',\n",
       " 'betavariate',\n",
       " 'choice',\n",
       " 'choices',\n",
       " 'expovariate',\n",
       " 'gammavariate',\n",
       " 'gauss',\n",
       " 'getrandbits',\n",
       " 'getstate',\n",
       " 'lognormvariate',\n",
       " 'normalvariate',\n",
       " 'paretovariate',\n",
       " 'randint',\n",
       " 'random',\n",
       " 'randrange',\n",
       " 'sample',\n",
       " 'seed',\n",
       " 'setstate',\n",
       " 'shuffle',\n",
       " 'triangular',\n",
       " 'uniform',\n",
       " 'vonmisesvariate',\n",
       " 'weibullvariate']"
      ]
     },
     "execution_count": 23,
     "metadata": {},
     "output_type": "execute_result"
    }
   ],
   "source": [
    "dir(random)"
   ]
  },
  {
   "cell_type": "code",
   "execution_count": 29,
   "metadata": {},
   "outputs": [
    {
     "data": {
      "text/plain": [
       "[0.0,\n",
       " 0.3394631590707574,\n",
       " 1.3626280423758566,\n",
       " 0.07309294172147562,\n",
       " 1.3938142400721616,\n",
       " 1.6512915151966707,\n",
       " 0.04636921305539721,\n",
       " 6.372530497669207,\n",
       " 7.676783222450489,\n",
       " 0.07383848478186417,\n",
       " 8.044017486134,\n",
       " 10.474743240010785,\n",
       " 11.954147333515465,\n",
       " 3.0035777898853198,\n",
       " 8.99018002581103,\n",
       " 6.491935110462889,\n",
       " 12.869509895773882,\n",
       " 3.946066748790252,\n",
       " 7.360998641678974,\n",
       " 15.431018094480732,\n",
       " 1.0567733288667114,\n",
       " 10.935516342768604,\n",
       " 5.5377288837736796,\n",
       " 9.776155470070597,\n",
       " 9.550549655468291,\n",
       " 17.706209127793855,\n",
       " 24.59875576599091,\n",
       " 22.99032004572539,\n",
       " 5.9716456096718975,\n",
       " 26.225138305278843,\n",
       " 29.51972688801095,\n",
       " 12.89845156248936,\n",
       " 20.224631448215284,\n",
       " 25.856751042674105,\n",
       " 3.3372561450801768,\n",
       " 8.722374098301227,\n",
       " 33.09173521973131,\n",
       " 34.49695842482068,\n",
       " 1.7967990997485215,\n",
       " 29.041826968021656,\n",
       " 34.88627777929572,\n",
       " 15.35705574553665,\n",
       " 38.6995163998363,\n",
       " 41.50608966219298,\n",
       " 12.544055756691055,\n",
       " 17.37365232459107,\n",
       " 13.055802975664875,\n",
       " 12.787535841660889,\n",
       " 20.57006610229488,\n",
       " 36.93742949143111,\n",
       " 27.301196559683234,\n",
       " 20.70855714857664,\n",
       " 45.23747747818114,\n",
       " 14.480032433666505,\n",
       " 9.533912873663212,\n",
       " 24.512548067456972,\n",
       " 16.946069887793207,\n",
       " 35.90124896934357,\n",
       " 26.781868458826338,\n",
       " 32.160119114729866,\n",
       " 5.178688825325848,\n",
       " 44.93840266047978,\n",
       " 50.15188241853908,\n",
       " 62.879445968182424,\n",
       " 10.762687199147464,\n",
       " 7.574107098056028,\n",
       " 12.12517504125548,\n",
       " 20.886156766174814,\n",
       " 25.853874661111316,\n",
       " 11.23558664283149,\n",
       " 30.854278358438098,\n",
       " 31.705208038429102,\n",
       " 15.754347137870875,\n",
       " 64.3101318390383,\n",
       " 40.11337997918915,\n",
       " 8.499850489222705,\n",
       " 73.92945399254236,\n",
       " 23.348171320322628,\n",
       " 69.55128545308021,\n",
       " 75.06665905674262,\n",
       " 51.529946371928325,\n",
       " 74.01931086204134,\n",
       " 46.24177425990469,\n",
       " 48.35402450175404,\n",
       " 12.826237835146761,\n",
       " 24.10244516362286,\n",
       " 58.70349445419221,\n",
       " 65.2385963381455,\n",
       " 59.75186199437145,\n",
       " 71.82299320426993,\n",
       " 0.2801135547271272,\n",
       " 57.62285192575715,\n",
       " 41.326863552002585,\n",
       " 48.88818898077299,\n",
       " 63.7878836160909,\n",
       " 48.136865768536666,\n",
       " 38.950202769234686,\n",
       " 86.61902772374431,\n",
       " 59.72161273462079,\n",
       " 8.94681152218429]"
      ]
     },
     "execution_count": 29,
     "metadata": {},
     "output_type": "execute_result"
    }
   ],
   "source": [
    "[i*(random.random()) for i in range(100)]"
   ]
  },
  {
   "cell_type": "code",
   "execution_count": 35,
   "metadata": {},
   "outputs": [],
   "source": [
    "rand=[]\n",
    "for i in range(100):\n",
    "    rand.append(random.randint(1,100))"
   ]
  },
  {
   "cell_type": "code",
   "execution_count": 36,
   "metadata": {},
   "outputs": [
    {
     "data": {
      "text/plain": [
       "[6,\n",
       " 87,\n",
       " 66,\n",
       " 59,\n",
       " 33,\n",
       " 87,\n",
       " 34,\n",
       " 65,\n",
       " 81,\n",
       " 50,\n",
       " 84,\n",
       " 3,\n",
       " 88,\n",
       " 46,\n",
       " 7,\n",
       " 40,\n",
       " 79,\n",
       " 15,\n",
       " 2,\n",
       " 31,\n",
       " 8,\n",
       " 13,\n",
       " 90,\n",
       " 93,\n",
       " 72,\n",
       " 28,\n",
       " 52,\n",
       " 7,\n",
       " 97,\n",
       " 66,\n",
       " 6,\n",
       " 72,\n",
       " 2,\n",
       " 35,\n",
       " 22,\n",
       " 22,\n",
       " 44,\n",
       " 4,\n",
       " 99,\n",
       " 36,\n",
       " 4,\n",
       " 7,\n",
       " 82,\n",
       " 31,\n",
       " 6,\n",
       " 68,\n",
       " 79,\n",
       " 53,\n",
       " 72,\n",
       " 56,\n",
       " 64,\n",
       " 61,\n",
       " 100,\n",
       " 72,\n",
       " 43,\n",
       " 70,\n",
       " 78,\n",
       " 67,\n",
       " 43,\n",
       " 60,\n",
       " 18,\n",
       " 93,\n",
       " 10,\n",
       " 81,\n",
       " 38,\n",
       " 64,\n",
       " 76,\n",
       " 76,\n",
       " 43,\n",
       " 85,\n",
       " 29,\n",
       " 67,\n",
       " 73,\n",
       " 32,\n",
       " 12,\n",
       " 24,\n",
       " 7,\n",
       " 43,\n",
       " 54,\n",
       " 97,\n",
       " 1,\n",
       " 45,\n",
       " 60,\n",
       " 63,\n",
       " 37,\n",
       " 11,\n",
       " 40,\n",
       " 73,\n",
       " 70,\n",
       " 89,\n",
       " 89,\n",
       " 32,\n",
       " 90,\n",
       " 93,\n",
       " 57,\n",
       " 44,\n",
       " 6,\n",
       " 31,\n",
       " 49,\n",
       " 20]"
      ]
     },
     "execution_count": 36,
     "metadata": {},
     "output_type": "execute_result"
    }
   ],
   "source": [
    "rand"
   ]
  },
  {
   "cell_type": "code",
   "execution_count": 38,
   "metadata": {},
   "outputs": [],
   "source": [
    "def print_table(number):\n",
    "    for i in range(1,11):\n",
    "        print(str(number)+\" * \"+str(i)+\" = \"+str(i*number) )"
   ]
  },
  {
   "cell_type": "code",
   "execution_count": 39,
   "metadata": {},
   "outputs": [
    {
     "name": "stdout",
     "output_type": "stream",
     "text": [
      "3 * 1 = 3\n",
      "3 * 2 = 6\n",
      "3 * 3 = 9\n",
      "3 * 4 = 12\n",
      "3 * 5 = 15\n",
      "3 * 6 = 18\n",
      "3 * 7 = 21\n",
      "3 * 8 = 24\n",
      "3 * 9 = 27\n",
      "3 * 10 = 30\n"
     ]
    }
   ],
   "source": [
    "print_table(3)"
   ]
  },
  {
   "cell_type": "code",
   "execution_count": 3,
   "metadata": {},
   "outputs": [
    {
     "data": {
      "text/plain": [
       "2"
      ]
     },
     "execution_count": 3,
     "metadata": {},
     "output_type": "execute_result"
    }
   ],
   "source": [
    "number=int(input(\"enter any number\"))\n",
    "temp=number\n",
    "n=0\n",
    "while number !=0:\n",
    "        rem=number%10\n",
    "        n=n*10+rem\n",
    "        \n",
    "        number=number//10\n",
    "if temp==n:\n",
    "    print(\"palidrome number\")"
   ]
  },
  {
   "cell_type": "code",
   "execution_count": 6,
   "metadata": {},
   "outputs": [
    {
     "data": {
      "text/plain": [
       "0"
      ]
     },
     "execution_count": 6,
     "metadata": {},
     "output_type": "execute_result"
    }
   ],
   "source": [
    "153"
   ]
  },
  {
   "cell_type": "code",
   "execution_count": 7,
   "metadata": {},
   "outputs": [
    {
     "data": {
      "text/plain": [
       "153"
      ]
     },
     "execution_count": 7,
     "metadata": {},
     "output_type": "execute_result"
    }
   ],
   "source": [
    "1**3 + 5**3 +3**3"
   ]
  },
  {
   "cell_type": "code",
   "execution_count": null,
   "metadata": {},
   "outputs": [],
   "source": []
  }
 ],
 "metadata": {
  "kernelspec": {
   "display_name": "Python 3",
   "language": "python",
   "name": "python3"
  },
  "language_info": {
   "codemirror_mode": {
    "name": "ipython",
    "version": 3
   },
   "file_extension": ".py",
   "mimetype": "text/x-python",
   "name": "python",
   "nbconvert_exporter": "python",
   "pygments_lexer": "ipython3",
   "version": "3.7.3"
  }
 },
 "nbformat": 4,
 "nbformat_minor": 2
}
