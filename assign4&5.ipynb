{
 "cells": [
  {
   "cell_type": "raw",
   "metadata": {},
   "source": [
    "P1\n",
    "Character Picture Grid\n",
    "Say you have a list of lists where each value in the inner lists is a one-character\n",
    "string, like this:\n",
    "    grid =  [['.','.','.','.','.','.'],\n",
    "             ['.','0','0','.','.','.'],\n",
    "             ['0','0','0','0','.','.'],\n",
    "             ['0','0','0','0','0','.'],\n",
    "             ['.','0','0','0','0','0'],\n",
    "             ['0','0','0','0','0','.'],\n",
    "             ['0','0','0','0','.','.'],\n",
    "             ['.','0','0','.','.','.'],\n",
    "             ['.','.','.','.','.','.']]\n",
    "think of grid[x][y] as being the character at the x- and\n",
    "y-­coordinates of a “picture” drawn with text characters. The (0, 0) origin\n",
    "will be in the upper-left corner, the x-coordinates increase going right,\n",
    "and the y-coordinates increase going down.\n",
    "Copy the previous grid value, and write code that uses it to print the image.\n",
    "..OO.OO..\n",
    ".OOOOOOO.\n",
    ".OOOOOOO.\n",
    "..OOOOO..\n",
    "...OOO...\n",
    "....O...."
   ]
  },
  {
   "cell_type": "raw",
   "metadata": {},
   "source": [
    "P2\n",
    "weekdays = [‘sun’,’mon’,’tue’,’wed’,’thu’,’fri’,’sat’]\n",
    "convert this list into string"
   ]
  },
  {
   "cell_type": "raw",
   "metadata": {},
   "source": [
    "P3\n",
    "write a program to find the average of numbers in a list in Python?"
   ]
  },
  {
   "cell_type": "raw",
   "metadata": {},
   "source": [
    "P4\n",
    "assuming that we have some email addresses in the \"username@companyname.com\" format, please write program to print the user name of a given email address. Both user names and company names are composed of letters only.\n",
    "\n",
    "Example:\n",
    "If the following email address is given as input to the program:\n",
    "\n",
    "john@google.com\n",
    "\n",
    "Then, the output of the program should be:\n",
    "\n",
    "john"
   ]
  },
  {
   "cell_type": "raw",
   "metadata": {},
   "source": [
    "P5\n",
    "Write a program to compute 1/2+2/3+3/4+...+n/n+1 with a given n input by console (n>0).\n",
    "\n",
    "Example:\n",
    "If the following n is given as input to the program:\n",
    "\n",
    "5\n",
    "\n",
    "Then, the output of the program should be:\n",
    "\n",
    "3.55"
   ]
  },
  {
   "cell_type": "raw",
   "metadata": {},
   "source": [
    "P6\n",
    "write a program using generator to print the even numbers between 0 and n in comma separated form while n is input by console.\n",
    "\n",
    "Example:\n",
    "If the following n is given as input to the program:\n",
    "\n",
    "10\n",
    "\n",
    "Then, the output of the program should be:\n",
    "\n",
    "0,2,4,6,8,10"
   ]
  },
  {
   "cell_type": "raw",
   "metadata": {},
   "source": [
    "P7\n",
    "Please write a program to generate all sentences where subject is in [\"I\", \"You\"] and verb is in [\"Play\", \"Love\"] and the object is in [\"Hockey\",\"Football\"].\n",
    "\n",
    "Output:\n",
    "I Play Hockey.\n",
    "I Play Football.\n",
    "I Love Hockey.\n",
    "I Love Football.\n",
    "You Play Hockey.\n",
    "You Play Football.\n",
    "You Love Hockey.\n",
    "You Love Football."
   ]
  },
  {
   "cell_type": "raw",
   "metadata": {},
   "source": [
    "P8\n",
    "please write a program generate a 3*5*8 3D array whose each element is 0 (3D Array)"
   ]
  },
  {
   "cell_type": "raw",
   "metadata": {},
   "source": [
    "P9\n",
    "Please write a program which accepts a string from console and print it in reverse order.\n",
    "\n",
    "Example:\n",
    "If the following string is given as input to the program:\n",
    "\n",
    "rise to vote sir\n",
    "\n",
    "Then, the output of the program should be\n",
    "\n",
    "sir vote to rise"
   ]
  },
  {
   "cell_type": "raw",
   "metadata": {},
   "source": [
    "P10\n",
    "Please write a program which prints all permutations of [1,2,3]"
   ]
  },
  {
   "cell_type": "raw",
   "metadata": {},
   "source": [
    "P11\n",
    "Write a Python program to calculate number of days between two dates.\n",
    "Sample dates : (2014, 7, 2), (2014, 7, 11)\n",
    "Expected output : 9 days "
   ]
  },
  {
   "cell_type": "raw",
   "metadata": {},
   "source": [
    "P12\n",
    "Write a Python program to compute the distance between the points (x1, y1) and (x2, y2)."
   ]
  },
  {
   "cell_type": "raw",
   "metadata": {},
   "source": [
    "P13\n",
    "Write a Python program to access a function inside a function. "
   ]
  },
  {
   "cell_type": "raw",
   "metadata": {},
   "source": [
    "P14\n",
    "Write a Python program to test whether two lines PQ and RS are parallel. The four points are P(x1, y1), Q(x2, y2), R(x3, y3), S(x4, y4)."
   ]
  },
  {
   "cell_type": "raw",
   "metadata": {},
   "source": [
    "P15\n",
    "Write a Python program to extend a list without append"
   ]
  },
  {
   "cell_type": "code",
   "execution_count": 55,
   "metadata": {},
   "outputs": [],
   "source": [
    "from itertools import permutations,combinations\n"
   ]
  },
  {
   "cell_type": "code",
   "execution_count": 53,
   "metadata": {},
   "outputs": [],
   "source": [
    "g=permutations([list(f),0,1],2)"
   ]
  },
  {
   "cell_type": "code",
   "execution_count": 105,
   "metadata": {},
   "outputs": [
    {
     "name": "stdout",
     "output_type": "stream",
     "text": [
      "[('I', 'Play', 'Hockey'), ('I', 'Play', 'Football'), ('I', 'Play', 'cricket'), ('I', 'Love', 'Hockey'), ('I', 'Love', 'Football'), ('I', 'Love', 'cricket'), [('You', 'Play', 'Hockey'), ('You', 'Play', 'Football'), ('You', 'Play', 'cricket'), ('You', 'Love', 'Hockey'), ('You', 'Love', 'Football'), ('You', 'Love', 'cricket')]]\n"
     ]
    }
   ],
   "source": [
    "fg=[\"I\",\"Play\", \"Love\",\"Hockey\",\"Football\",\"cricket\"]\n",
    "gf=[\"You\",\"Play\", \"Love\",\"Hockey\",\"Football\",\"cricket\"]\n",
    "k=list(combinations(fg,3))[1:7]\n",
    "k.append(list(combinations(gf,3))[1:7])\n",
    "\n",
    "print(k)\n",
    "\n"
   ]
  },
  {
   "cell_type": "code",
   "execution_count": 89,
   "metadata": {},
   "outputs": [
    {
     "data": {
      "text/plain": [
       "[('I', 'Play', 'Hockey'),\n",
       " ('I', 'Play', 'Football'),\n",
       " ('I', 'Play', 'cricket'),\n",
       " ('I', 'Love', 'Hockey'),\n",
       " ('I', 'Love', 'Football'),\n",
       " ('I', 'Love', 'cricket'),\n",
       " [('You', 'Play', 'Hockey'),\n",
       "  ('You', 'Play', 'Football'),\n",
       "  ('You', 'Play', 'cricket'),\n",
       "  ('You', 'Love', 'Hockey'),\n",
       "  ('You', 'Love', 'Football'),\n",
       "  ('You', 'Love', 'cricket')]]"
      ]
     },
     "execution_count": 89,
     "metadata": {},
     "output_type": "execute_result"
    }
   ],
   "source": [
    "d"
   ]
  },
  {
   "cell_type": "code",
   "execution_count": 95,
   "metadata": {},
   "outputs": [],
   "source": [
    "from datetime import timedelta,date\n",
    "\n",
    "t1=date(2014, 7, 2)\n",
    "t2=date(2014, 7, 11)"
   ]
  },
  {
   "cell_type": "code",
   "execution_count": 98,
   "metadata": {},
   "outputs": [
    {
     "name": "stdout",
     "output_type": "stream",
     "text": [
      "9 days, 0:00:00\n"
     ]
    }
   ],
   "source": [
    "print(abs(t1-t2))"
   ]
  },
  {
   "cell_type": "code",
   "execution_count": null,
   "metadata": {},
   "outputs": [],
   "source": [
    "def fact(n):\n",
    "    if n == 0:\n",
    "        return 1\n",
    "    else:\n",
    "        return n * fact(n-1)\n",
    " \n",
    " \n",
    "print(fact(0))\n",
    "print(fact(5))"
   ]
  },
  {
   "cell_type": "code",
   "execution_count": 101,
   "metadata": {},
   "outputs": [
    {
     "data": {
      "text/plain": [
       "[(1, 2), (1, 3), (2, 3)]"
      ]
     },
     "execution_count": 101,
     "metadata": {},
     "output_type": "execute_result"
    }
   ],
   "source": [
    "list(combinations([1,2,3],2))"
   ]
  },
  {
   "cell_type": "code",
   "execution_count": 109,
   "metadata": {},
   "outputs": [
    {
     "data": {
      "text/plain": [
       "[[[0, 0, 0, 0, 0, 0, 0, 0],\n",
       "  [0, 0, 0, 0, 0, 0, 0, 0],\n",
       "  [0, 0, 0, 0, 0, 0, 0, 0],\n",
       "  [0, 0, 0, 0, 0, 0, 0, 0],\n",
       "  [0, 0, 0, 0, 0, 0, 0, 0]],\n",
       " [[0, 0, 0, 0, 0, 0, 0, 0],\n",
       "  [0, 0, 0, 0, 0, 0, 0, 0],\n",
       "  [0, 0, 0, 0, 0, 0, 0, 0],\n",
       "  [0, 0, 0, 0, 0, 0, 0, 0],\n",
       "  [0, 0, 0, 0, 0, 0, 0, 0]],\n",
       " [[0, 0, 0, 0, 0, 0, 0, 0],\n",
       "  [0, 0, 0, 0, 0, 0, 0, 0],\n",
       "  [0, 0, 0, 0, 0, 0, 0, 0],\n",
       "  [0, 0, 0, 0, 0, 0, 0, 0],\n",
       "  [0, 0, 0, 0, 0, 0, 0, 0]]]"
      ]
     },
     "execution_count": 109,
     "metadata": {},
     "output_type": "execute_result"
    }
   ],
   "source": [
    "row=3\n",
    "col=5\n",
    "layers=8\n",
    "\n",
    "\n",
    "[[[0]*8]*5]*3"
   ]
  },
  {
   "cell_type": "code",
   "execution_count": 114,
   "metadata": {},
   "outputs": [
    {
     "name": "stdout",
     "output_type": "stream",
     "text": [
      "8 days, 23:00:00\n"
     ]
    }
   ],
   "source": [
    "from datetime import date, datetime\n",
    "\n",
    "t1=datetime(2014,7,2,2)\n",
    "t2=datetime(2014,7,11,1)\n",
    "\n",
    "print(abs(t1-t2))"
   ]
  },
  {
   "cell_type": "code",
   "execution_count": null,
   "metadata": {},
   "outputs": [],
   "source": []
  },
  {
   "cell_type": "code",
   "execution_count": null,
   "metadata": {},
   "outputs": [],
   "source": []
  },
  {
   "cell_type": "code",
   "execution_count": null,
   "metadata": {},
   "outputs": [],
   "source": []
  },
  {
   "cell_type": "code",
   "execution_count": null,
   "metadata": {},
   "outputs": [],
   "source": []
  },
  {
   "cell_type": "code",
   "execution_count": null,
   "metadata": {},
   "outputs": [],
   "source": []
  },
  {
   "cell_type": "code",
   "execution_count": null,
   "metadata": {},
   "outputs": [],
   "source": []
  }
 ],
 "metadata": {
  "kernelspec": {
   "display_name": "Python 3",
   "language": "python",
   "name": "python3"
  },
  "language_info": {
   "codemirror_mode": {
    "name": "ipython",
    "version": 3
   },
   "file_extension": ".py",
   "mimetype": "text/x-python",
   "name": "python",
   "nbconvert_exporter": "python",
   "pygments_lexer": "ipython3",
   "version": "3.7.3"
  }
 },
 "nbformat": 4,
 "nbformat_minor": 2
}
