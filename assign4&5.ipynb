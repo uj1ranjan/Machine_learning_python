{
 "cells": [
  {
   "cell_type": "raw",
   "metadata": {},
   "source": [
    "P1\n",
    "Character Picture Grid\n",
    "Say you have a list of lists where each value in the inner lists is a one-character\n",
    "string, like this:\n",
    "    grid =  [['.','.','.','.','.','.'],\n",
    "             ['.','0','0','.','.','.'],\n",
    "             ['0','0','0','0','.','.'],\n",
    "             ['0','0','0','0','0','.'],\n",
    "             ['.','0','0','0','0','0'],\n",
    "             ['0','0','0','0','0','.'],\n",
    "             ['0','0','0','0','.','.'],\n",
    "             ['.','0','0','.','.','.'],\n",
    "             ['.','.','.','.','.','.']]\n",
    "think of grid[x][y] as being the character at the x- and\n",
    "y-­coordinates of a “picture” drawn with text characters. The (0, 0) origin\n",
    "will be in the upper-left corner, the x-coordinates increase going right,\n",
    "and the y-coordinates increase going down.\n",
    "Copy the previous grid value, and write code that uses it to print the image.\n",
    "..OO.OO..\n",
    ".OOOOOOO.\n",
    ".OOOOOOO.\n",
    "..OOOOO..\n",
    "...OOO...\n",
    "....O...."
   ]
  },
  {
   "cell_type": "code",
   "execution_count": 20,
   "metadata": {},
   "outputs": [
    {
     "name": "stdout",
     "output_type": "stream",
     "text": [
      "..00.00..\n",
      ".0000000.\n",
      ".0000000.\n",
      "..00000..\n",
      "...000...\n",
      "....0....\n"
     ]
    }
   ],
   "source": [
    "grid =  [['.','.','.','.','.','.'],\n",
    "             ['.','0','0','.','.','.'],\n",
    "             ['0','0','0','0','.','.'],\n",
    "             ['0','0','0','0','0','.'],\n",
    "             ['.','0','0','0','0','0'],\n",
    "             ['0','0','0','0','0','.'],\n",
    "             ['0','0','0','0','.','.'],\n",
    "             ['.','0','0','.','.','.'],\n",
    "             ['.','.','.','.','.','.']]\n",
    "for j in range(6):\n",
    "    for x in range(9):\n",
    "        print(grid[x][j],end='')\n",
    "    print('')"
   ]
  },
  {
   "cell_type": "code",
   "execution_count": 15,
   "metadata": {},
   "outputs": [
    {
     "name": "stdout",
     "output_type": "stream",
     "text": [
      "[['.', '.', '.', '.', '.', '.'], ['.', '0', '0', '.', '.', '.'], ['0', '0', '0', '0', '.', '.'], ['0', '0', '0', '0', '0', '.'], ['.', '0', '0', '0', '0', '0'], ['0', '0', '0', '0', '0', '.'], ['0', '0', '0', '0', '.', '.'], ['.', '0', '0', '.', '.', '.'], ['.', '.', '.', '.', '.', '.']]\n"
     ]
    }
   ],
   "source": [
    "print([['.','.','.','.','.','.'],\n",
    "             ['.','0','0','.','.','.'],\n",
    "             ['0','0','0','0','.','.'],\n",
    "             ['0','0','0','0','0','.'],\n",
    "             ['.','0','0','0','0','0'],\n",
    "             ['0','0','0','0','0','.'],\n",
    "             ['0','0','0','0','.','.'],\n",
    "             ['.','0','0','.','.','.'],\n",
    "             ['.','.','.','.','.','.']])"
   ]
  },
  {
   "cell_type": "raw",
   "metadata": {},
   "source": [
    "P2\n",
    "weekdays = [‘sun’,’mon’,’tue’,’wed’,’thu’,’fri’,’sat’]\n",
    "convert this list into string"
   ]
  },
  {
   "cell_type": "code",
   "execution_count": 6,
   "metadata": {},
   "outputs": [
    {
     "name": "stdout",
     "output_type": "stream",
     "text": [
      "sunmontuewedthufrisat"
     ]
    }
   ],
   "source": [
    "weekdays = [\"sun\",\"mon\",\"tue\",\"wed\",\"thu\",\"fri\",\"sat\"]\n",
    "\n",
    "for i in weekdays:\n",
    "    print(i,end='')"
   ]
  },
  {
   "cell_type": "raw",
   "metadata": {},
   "source": [
    "P3\n",
    "write a program to find the average of numbers in a list in Python?"
   ]
  },
  {
   "cell_type": "code",
   "execution_count": 13,
   "metadata": {},
   "outputs": [
    {
     "name": "stdout",
     "output_type": "stream",
     "text": [
      "4\n",
      "25.0\n"
     ]
    }
   ],
   "source": [
    "a = [10,20,30,40]\n",
    "print(len(a))\n",
    "sum = 0\n",
    "for i in a:\n",
    "     sum += i\n",
    "    \n",
    "print(sum/len(a))"
   ]
  },
  {
   "cell_type": "raw",
   "metadata": {},
   "source": [
    "P4\n",
    "assuming that we have some email addresses in the \"username@companyname.com\" format, please write program to print the user name of a given email address. Both user names and company names are composed of letters only.\n",
    "\n",
    "Example:\n",
    "If the following email address is given as input to the program:\n",
    "\n",
    "john@google.com\n",
    "\n",
    "Then, the output of the program should be:\n",
    "\n",
    "john"
   ]
  },
  {
   "cell_type": "code",
   "execution_count": 14,
   "metadata": {},
   "outputs": [
    {
     "name": "stdout",
     "output_type": "stream",
     "text": [
      "username@companyname.\n"
     ]
    }
   ],
   "source": [
    "email = \"username@companyname.com\"\n",
    "new = email.rstrip('@companyname.com')\n",
    "print(new)"
   ]
  },
  {
   "cell_type": "raw",
   "metadata": {},
   "source": [
    "P5\n",
    "Write a program to compute 1/2+2/3+3/4+...+n/n+1 with a given n input by console (n>0).\n",
    "\n",
    "Example:\n",
    "If the following n is given as input to the program:\n",
    "\n",
    "5\n",
    "\n",
    "Then, the output of the program should be:\n",
    "\n",
    "3.55"
   ]
  },
  {
   "cell_type": "code",
   "execution_count": 13,
   "metadata": {},
   "outputs": [
    {
     "name": "stdout",
     "output_type": "stream",
     "text": [
      "5\n",
      "3.5500000000000003\n"
     ]
    }
   ],
   "source": [
    "a=0\n",
    "n=int(input())\n",
    "for i in range(1,n+1):\n",
    "    a+=i/(i+1)\n",
    "print(a)\n",
    "\n",
    "# print(1/2+2/3+3/4+4/5+5/6)"
   ]
  },
  {
   "cell_type": "raw",
   "metadata": {},
   "source": [
    "P6\n",
    "write a program using generator to print the even numbers between 0 and n in comma separated form while n is input by console.\n",
    "\n",
    "Example:\n",
    "If the following n is given as input to the program:\n",
    "\n",
    "10\n",
    "\n",
    "Then, the output of the program should be:\n",
    "\n",
    "0,2,4,6,8,10"
   ]
  },
  {
   "cell_type": "code",
   "execution_count": 54,
   "metadata": {},
   "outputs": [
    {
     "name": "stdout",
     "output_type": "stream",
     "text": [
      "Enter the number that you may want to print even numbers11\n",
      "1\n",
      "3\n",
      "5\n",
      "7\n",
      "9\n",
      "11\n"
     ]
    }
   ],
   "source": [
    "inpur_from_user = int(input('Enter the number that you may want to print even numbers'))\n",
    "\n",
    "if inpur_from_user %2 == 0:\n",
    "    for i in range(2,inpur_from_user+2,2):\n",
    "        print(i)\n",
    "else:\n",
    "    for i in range(1,inpur_from_user + 2,2):\n",
    "        print(i)"
   ]
  },
  {
   "cell_type": "raw",
   "metadata": {},
   "source": [
    "P7\n",
    "Please write a program to generate all sentences where subject is in [\"I\", \"You\"] and verb is in [\"Play\", \"Love\"] and the object is in [\"Hockey\",\"Football\"].\n",
    "\n",
    "Output:\n",
    "I Play Hockey.\n",
    "I Play Football.\n",
    "I Love Hockey.\n",
    "I Love Football.\n",
    "You Play Hockey.\n",
    "You Play Football.\n",
    "You Love Hockey.\n",
    "You Love Football."
   ]
  },
  {
   "cell_type": "raw",
   "metadata": {},
   "source": [
    "P8\n",
    "please write a program generate a 3*5*8 3D array whose each element is 0 (3D Array)"
   ]
  },
  {
   "cell_type": "raw",
   "metadata": {},
   "source": [
    "P9\n",
    "Please write a program which accepts a string from console and print it in reverse order.\n",
    "\n",
    "Example:\n",
    "If the following string is given as input to the program:\n",
    "\n",
    "rise to vote sir\n",
    "\n",
    "Then, the output of the program should be\n",
    "\n",
    "sir vote to rise"
   ]
  },
  {
   "cell_type": "raw",
   "metadata": {},
   "source": [
    "P10\n",
    "Please write a program which prints all permutations of [1,2,3]"
   ]
  },
  {
   "cell_type": "raw",
   "metadata": {},
   "source": [
    "P11\n",
    "Write a Python program to calculate number of days between two dates.\n",
    "Sample dates : (2014, 7, 2), (2014, 7, 11)\n",
    "Expected output : 9 days "
   ]
  },
  {
   "cell_type": "raw",
   "metadata": {},
   "source": [
    "P12\n",
    "Write a Python program to compute the distance between the points (x1, y1) and (x2, y2)."
   ]
  },
  {
   "cell_type": "code",
   "execution_count": null,
   "metadata": {},
   "outputs": [],
   "source": [
    "import math \n",
    "\n",
    "def distance(x1 , y1 , x2 , y2): \n",
    "    return math.sqrt(math.pow(x2 - x1, 2) +\n",
    "                math.pow(y2 - y1, 2) * 1.0) \n",
    "   \n",
    "print(\"%.6f\"%distance(3, 4, 4, 3)) "
   ]
  },
  {
   "cell_type": "raw",
   "metadata": {},
   "source": [
    "P13\n",
    "Write a Python program to access a function inside a function. "
   ]
  },
  {
   "cell_type": "code",
   "execution_count": 8,
   "metadata": {},
   "outputs": [],
   "source": [
    "def func1():\n",
    "    func2()\n",
    "    \n",
    "def func2():\n",
    "    print('Hello')"
   ]
  },
  {
   "cell_type": "raw",
   "metadata": {},
   "source": [
    "P14\n",
    "Write a Python program to test whether two lines PQ and RS are parallel. The four points are P(x1, y1), Q(x2, y2), R(x3, y3), S(x4, y4)."
   ]
  },
  {
   "cell_type": "code",
   "execution_count": 14,
   "metadata": {},
   "outputs": [
    {
     "name": "stdout",
     "output_type": "stream",
     "text": [
      "Input x1,y1,x2,y2,x3,y3,xp,yp:\n",
      "10.1\n"
     ]
    },
    {
     "ename": "ValueError",
     "evalue": "not enough values to unpack (expected 8, got 1)",
     "output_type": "error",
     "traceback": [
      "\u001b[0;31m---------------------------------------------------------------------------\u001b[0m",
      "\u001b[0;31mValueError\u001b[0m                                Traceback (most recent call last)",
      "\u001b[0;32m<ipython-input-14-38cc2418c41a>\u001b[0m in \u001b[0;36m<module>\u001b[0;34m\u001b[0m\n\u001b[1;32m      1\u001b[0m \u001b[0mprint\u001b[0m\u001b[0;34m(\u001b[0m\u001b[0;34m\"Input x1,y1,x2,y2,x3,y3,xp,yp:\"\u001b[0m\u001b[0;34m)\u001b[0m\u001b[0;34m\u001b[0m\u001b[0;34m\u001b[0m\u001b[0m\n\u001b[0;32m----> 2\u001b[0;31m \u001b[0mx1\u001b[0m\u001b[0;34m,\u001b[0m \u001b[0my1\u001b[0m\u001b[0;34m,\u001b[0m\u001b[0mx2\u001b[0m\u001b[0;34m,\u001b[0m \u001b[0my2\u001b[0m\u001b[0;34m,\u001b[0m \u001b[0mx3\u001b[0m\u001b[0;34m,\u001b[0m \u001b[0my3\u001b[0m\u001b[0;34m,\u001b[0m \u001b[0mx4\u001b[0m\u001b[0;34m,\u001b[0m \u001b[0my4\u001b[0m \u001b[0;34m=\u001b[0m \u001b[0mmap\u001b[0m\u001b[0;34m(\u001b[0m\u001b[0mfloat\u001b[0m\u001b[0;34m,\u001b[0m \u001b[0minput\u001b[0m\u001b[0;34m(\u001b[0m\u001b[0;34m)\u001b[0m\u001b[0;34m.\u001b[0m\u001b[0msplit\u001b[0m\u001b[0;34m(\u001b[0m\u001b[0;34m)\u001b[0m\u001b[0;34m)\u001b[0m\u001b[0;34m\u001b[0m\u001b[0;34m\u001b[0m\u001b[0m\n\u001b[0m",
      "\u001b[0;31mValueError\u001b[0m: not enough values to unpack (expected 8, got 1)"
     ]
    }
   ],
   "source": [
    "print(\"Input x1,y1,x2,y2,x3,y3,xp,yp:\")\n",
    "x1, y1,x2, y2, x3, y3, x4, y4 = map(float, input().split())\n"
   ]
  },
  {
   "cell_type": "raw",
   "metadata": {},
   "source": [
    "P15\n",
    "Write a Python program to extend a list without append"
   ]
  },
  {
   "cell_type": "code",
   "execution_count": 10,
   "metadata": {},
   "outputs": [
    {
     "name": "stdout",
     "output_type": "stream",
     "text": [
      "[[50, 60, 70], 20, 30, 40]\n"
     ]
    }
   ],
   "source": [
    "a = [10,20,30,40]\n",
    "b  = [50,60,70]\n",
    "\n",
    "a[-0] = b\n",
    "\n",
    "print(a)"
   ]
  },
  {
   "cell_type": "code",
   "execution_count": null,
   "metadata": {},
   "outputs": [],
   "source": []
  }
 ],
 "metadata": {
  "kernelspec": {
   "display_name": "Python 3",
   "language": "python",
   "name": "python3"
  },
  "language_info": {
   "codemirror_mode": {
    "name": "ipython",
    "version": 3
   },
   "file_extension": ".py",
   "mimetype": "text/x-python",
   "name": "python",
   "nbconvert_exporter": "python",
   "pygments_lexer": "ipython3",
   "version": "3.7.3"
  }
 },
 "nbformat": 4,
 "nbformat_minor": 2
}
